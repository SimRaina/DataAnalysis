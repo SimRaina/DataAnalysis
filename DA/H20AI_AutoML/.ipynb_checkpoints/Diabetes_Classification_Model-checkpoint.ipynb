{
 "cells": [
  {
   "cell_type": "code",
   "execution_count": 1,
   "metadata": {},
   "outputs": [
    {
     "name": "stdout",
     "output_type": "stream",
     "text": [
      "Looking in links: http://h2o-release.s3.amazonaws.com/h2o/latest_stable_Py.html\n",
      "Collecting h2o\n",
      "  Downloading https://files.pythonhosted.org/packages/b0/e7/b7057e4a6832f3bec0cb36fda4913bf84a6dc610c92a2d3543442f4154a1/h2o-3.30.1.1.tar.gz (129.3MB)\n",
      "Requirement already satisfied: requests in c:\\users\\simra\\anaconda3\\lib\\site-packages (from h2o) (2.21.0)\n",
      "Collecting tabulate (from h2o)\n",
      "  Downloading https://files.pythonhosted.org/packages/c4/f4/770ae9385990f5a19a91431163d262182d3203662ea2b5739d0fcfc080f1/tabulate-0.8.7-py3-none-any.whl\n",
      "Requirement already satisfied: future in c:\\users\\simra\\anaconda3\\lib\\site-packages (from h2o) (0.17.1)\n",
      "Requirement already satisfied: colorama>=0.3.8 in c:\\users\\simra\\anaconda3\\lib\\site-packages (from h2o) (0.4.1)\n",
      "Requirement already satisfied: certifi>=2017.4.17 in c:\\users\\simra\\anaconda3\\lib\\site-packages (from requests->h2o) (2020.6.20)\n",
      "Requirement already satisfied: chardet<3.1.0,>=3.0.2 in c:\\users\\simra\\anaconda3\\lib\\site-packages (from requests->h2o) (3.0.4)\n",
      "Requirement already satisfied: urllib3<1.25,>=1.21.1 in c:\\users\\simra\\anaconda3\\lib\\site-packages (from requests->h2o) (1.24.1)\n",
      "Requirement already satisfied: idna<2.9,>=2.5 in c:\\users\\simra\\anaconda3\\lib\\site-packages (from requests->h2o) (2.8)\n",
      "Building wheels for collected packages: h2o\n",
      "  Building wheel for h2o (setup.py): started\n",
      "  Building wheel for h2o (setup.py): finished with status 'done'\n",
      "  Stored in directory: C:\\Users\\simra\\AppData\\Local\\pip\\Cache\\wheels\\33\\ac\\52\\165c35d747abdb629c3c9fb7e087f360c662d8cb58824caed8\n",
      "Successfully built h2o\n",
      "Installing collected packages: tabulate, h2o\n",
      "Successfully installed h2o-3.30.1.1 tabulate-0.8.7\n"
     ]
    },
    {
     "name": "stderr",
     "output_type": "stream",
     "text": [
      "  The repository located at h2o-release.s3.amazonaws.com is not a trusted or secure host and is being ignored. If this repository is available via HTTPS we recommend you use HTTPS instead, otherwise you may silence this warning and allow it anyway with '--trusted-host h2o-release.s3.amazonaws.com'.\n",
      "  The repository located at h2o-release.s3.amazonaws.com is not a trusted or secure host and is being ignored. If this repository is available via HTTPS we recommend you use HTTPS instead, otherwise you may silence this warning and allow it anyway with '--trusted-host h2o-release.s3.amazonaws.com'.\n",
      "The repository located at h2o-release.s3.amazonaws.com is not a trusted or secure host and is being ignored. If this repository is available via HTTPS we recommend you use HTTPS instead, otherwise you may silence this warning and allow it anyway with '--trusted-host h2o-release.s3.amazonaws.com'.\n"
     ]
    }
   ],
   "source": [
    "!pip install -f http://h2o-release.s3.amazonaws.com/h2o/latest_stable_Py.html h2o"
   ]
  },
  {
   "cell_type": "code",
   "execution_count": 14,
   "metadata": {},
   "outputs": [],
   "source": [
    "import h2o\n",
    "from h2o.automl import H2OAutoML"
   ]
  },
  {
   "cell_type": "code",
   "execution_count": 3,
   "metadata": {},
   "outputs": [
    {
     "name": "stdout",
     "output_type": "stream",
     "text": [
      "Checking whether there is an H2O instance running at http://localhost:54321 ..... not found.\n",
      "Attempting to start a local H2O server...\n",
      "; Java HotSpot(TM) 64-Bit Server VM (build 25.211-b12, mixed mode)\n",
      "  Starting server from C:\\Users\\simra\\Anaconda3\\lib\\site-packages\\h2o\\backend\\bin\\h2o.jar\n",
      "  Ice root: C:\\Users\\simra\\AppData\\Local\\Temp\\tmph2mio1e7\n",
      "  JVM stdout: C:\\Users\\simra\\AppData\\Local\\Temp\\tmph2mio1e7\\h2o_simra_started_from_python.out\n",
      "  JVM stderr: C:\\Users\\simra\\AppData\\Local\\Temp\\tmph2mio1e7\\h2o_simra_started_from_python.err\n",
      "  Server is running at http://127.0.0.1:54321\n",
      "Connecting to H2O server at http://127.0.0.1:54321 ... successful.\n"
     ]
    },
    {
     "data": {
      "text/html": [
       "<div style=\"overflow:auto\"><table style=\"width:50%\"><tr><td>H2O_cluster_uptime:</td>\n",
       "<td>04 secs</td></tr>\n",
       "<tr><td>H2O_cluster_timezone:</td>\n",
       "<td>Asia/Kolkata</td></tr>\n",
       "<tr><td>H2O_data_parsing_timezone:</td>\n",
       "<td>UTC</td></tr>\n",
       "<tr><td>H2O_cluster_version:</td>\n",
       "<td>3.30.1.1</td></tr>\n",
       "<tr><td>H2O_cluster_version_age:</td>\n",
       "<td>13 days </td></tr>\n",
       "<tr><td>H2O_cluster_name:</td>\n",
       "<td>H2O_from_python_simra_xjc6jr</td></tr>\n",
       "<tr><td>H2O_cluster_total_nodes:</td>\n",
       "<td>1</td></tr>\n",
       "<tr><td>H2O_cluster_free_memory:</td>\n",
       "<td>1.752 Gb</td></tr>\n",
       "<tr><td>H2O_cluster_total_cores:</td>\n",
       "<td>4</td></tr>\n",
       "<tr><td>H2O_cluster_allowed_cores:</td>\n",
       "<td>4</td></tr>\n",
       "<tr><td>H2O_cluster_status:</td>\n",
       "<td>accepting new members, healthy</td></tr>\n",
       "<tr><td>H2O_connection_url:</td>\n",
       "<td>http://127.0.0.1:54321</td></tr>\n",
       "<tr><td>H2O_connection_proxy:</td>\n",
       "<td>{\"http\": null, \"https\": null}</td></tr>\n",
       "<tr><td>H2O_internal_security:</td>\n",
       "<td>False</td></tr>\n",
       "<tr><td>H2O_API_Extensions:</td>\n",
       "<td>Amazon S3, Algos, AutoML, Core V3, TargetEncoder, Core V4</td></tr>\n",
       "<tr><td>Python_version:</td>\n",
       "<td>3.7.3 final</td></tr></table></div>"
      ],
      "text/plain": [
       "--------------------------  ---------------------------------------------------------\n",
       "H2O_cluster_uptime:         04 secs\n",
       "H2O_cluster_timezone:       Asia/Kolkata\n",
       "H2O_data_parsing_timezone:  UTC\n",
       "H2O_cluster_version:        3.30.1.1\n",
       "H2O_cluster_version_age:    13 days\n",
       "H2O_cluster_name:           H2O_from_python_simra_xjc6jr\n",
       "H2O_cluster_total_nodes:    1\n",
       "H2O_cluster_free_memory:    1.752 Gb\n",
       "H2O_cluster_total_cores:    4\n",
       "H2O_cluster_allowed_cores:  4\n",
       "H2O_cluster_status:         accepting new members, healthy\n",
       "H2O_connection_url:         http://127.0.0.1:54321\n",
       "H2O_connection_proxy:       {\"http\": null, \"https\": null}\n",
       "H2O_internal_security:      False\n",
       "H2O_API_Extensions:         Amazon S3, Algos, AutoML, Core V3, TargetEncoder, Core V4\n",
       "Python_version:             3.7.3 final\n",
       "--------------------------  ---------------------------------------------------------"
      ]
     },
     "metadata": {},
     "output_type": "display_data"
    }
   ],
   "source": [
    "h2o.init()"
   ]
  },
  {
   "cell_type": "code",
   "execution_count": 4,
   "metadata": {},
   "outputs": [
    {
     "name": "stdout",
     "output_type": "stream",
     "text": [
      "Parse progress: |█████████████████████████████████████████████████████████| 100%\n"
     ]
    }
   ],
   "source": [
    "diabetes_data = h2o.import_file(\"diabetes.csv\")"
   ]
  },
  {
   "cell_type": "code",
   "execution_count": 5,
   "metadata": {},
   "outputs": [
    {
     "data": {
      "text/html": [
       "<table>\n",
       "<thead>\n",
       "<tr><th style=\"text-align: right;\">  Pregnancies</th><th style=\"text-align: right;\">  Glucose</th><th style=\"text-align: right;\">  BloodPressure</th><th style=\"text-align: right;\">  SkinThickness</th><th style=\"text-align: right;\">  Insulin</th><th style=\"text-align: right;\">  BMI</th><th style=\"text-align: right;\">  DiabetesPedigreeFunction</th><th style=\"text-align: right;\">  Age</th><th style=\"text-align: right;\">  Outcome</th></tr>\n",
       "</thead>\n",
       "<tbody>\n",
       "<tr><td style=\"text-align: right;\">            6</td><td style=\"text-align: right;\">      148</td><td style=\"text-align: right;\">             72</td><td style=\"text-align: right;\">             35</td><td style=\"text-align: right;\">        0</td><td style=\"text-align: right;\"> 33.6</td><td style=\"text-align: right;\">                     0.627</td><td style=\"text-align: right;\">   50</td><td style=\"text-align: right;\">        1</td></tr>\n",
       "<tr><td style=\"text-align: right;\">            1</td><td style=\"text-align: right;\">       85</td><td style=\"text-align: right;\">             66</td><td style=\"text-align: right;\">             29</td><td style=\"text-align: right;\">        0</td><td style=\"text-align: right;\"> 26.6</td><td style=\"text-align: right;\">                     0.351</td><td style=\"text-align: right;\">   31</td><td style=\"text-align: right;\">        0</td></tr>\n",
       "<tr><td style=\"text-align: right;\">            8</td><td style=\"text-align: right;\">      183</td><td style=\"text-align: right;\">             64</td><td style=\"text-align: right;\">              0</td><td style=\"text-align: right;\">        0</td><td style=\"text-align: right;\"> 23.3</td><td style=\"text-align: right;\">                     0.672</td><td style=\"text-align: right;\">   32</td><td style=\"text-align: right;\">        1</td></tr>\n",
       "<tr><td style=\"text-align: right;\">            1</td><td style=\"text-align: right;\">       89</td><td style=\"text-align: right;\">             66</td><td style=\"text-align: right;\">             23</td><td style=\"text-align: right;\">       94</td><td style=\"text-align: right;\"> 28.1</td><td style=\"text-align: right;\">                     0.167</td><td style=\"text-align: right;\">   21</td><td style=\"text-align: right;\">        0</td></tr>\n",
       "<tr><td style=\"text-align: right;\">            0</td><td style=\"text-align: right;\">      137</td><td style=\"text-align: right;\">             40</td><td style=\"text-align: right;\">             35</td><td style=\"text-align: right;\">      168</td><td style=\"text-align: right;\"> 43.1</td><td style=\"text-align: right;\">                     2.288</td><td style=\"text-align: right;\">   33</td><td style=\"text-align: right;\">        1</td></tr>\n",
       "</tbody>\n",
       "</table>"
      ]
     },
     "metadata": {},
     "output_type": "display_data"
    },
    {
     "data": {
      "text/plain": []
     },
     "execution_count": 5,
     "metadata": {},
     "output_type": "execute_result"
    }
   ],
   "source": [
    "diabetes_data.head(5)"
   ]
  },
  {
   "cell_type": "code",
   "execution_count": 6,
   "metadata": {},
   "outputs": [
    {
     "name": "stdout",
     "output_type": "stream",
     "text": [
      "Rows:768\n",
      "Cols:9\n",
      "\n",
      "\n"
     ]
    },
    {
     "data": {
      "text/html": [
       "<table>\n",
       "<thead>\n",
       "<tr><th>       </th><th>Pregnancies      </th><th>Glucose           </th><th>BloodPressure     </th><th>SkinThickness     </th><th>Insulin           </th><th>BMI              </th><th>DiabetesPedigreeFunction  </th><th>Age               </th><th>Outcome            </th></tr>\n",
       "</thead>\n",
       "<tbody>\n",
       "<tr><td>type   </td><td>int              </td><td>int               </td><td>int               </td><td>int               </td><td>int               </td><td>real             </td><td>real                      </td><td>int               </td><td>int                </td></tr>\n",
       "<tr><td>mins   </td><td>0.0              </td><td>0.0               </td><td>0.0               </td><td>0.0               </td><td>0.0               </td><td>0.0              </td><td>0.078                     </td><td>21.0              </td><td>0.0                </td></tr>\n",
       "<tr><td>mean   </td><td>3.845052083333336</td><td>120.89453125      </td><td>69.10546874999994 </td><td>20.536458333333357</td><td>79.79947916666666 </td><td>31.99257812500003</td><td>0.4718763020833334        </td><td>33.240885416666615</td><td>0.3489583333333333 </td></tr>\n",
       "<tr><td>maxs   </td><td>17.0             </td><td>199.0             </td><td>122.0             </td><td>99.0              </td><td>846.0             </td><td>67.1             </td><td>2.42                      </td><td>81.0              </td><td>1.0                </td></tr>\n",
       "<tr><td>sigma  </td><td>3.36957806269887 </td><td>31.972618195136224</td><td>19.355807170644777</td><td>15.952217567727642</td><td>115.24400235133803</td><td>7.884160320375441</td><td>0.331328595012775         </td><td>11.760231540678689</td><td>0.47695137724279896</td></tr>\n",
       "<tr><td>zeros  </td><td>111              </td><td>5                 </td><td>35                </td><td>227               </td><td>374               </td><td>11               </td><td>0                         </td><td>0                 </td><td>500                </td></tr>\n",
       "<tr><td>missing</td><td>0                </td><td>0                 </td><td>0                 </td><td>0                 </td><td>0                 </td><td>0                </td><td>0                         </td><td>0                 </td><td>0                  </td></tr>\n",
       "<tr><td>0      </td><td>6.0              </td><td>148.0             </td><td>72.0              </td><td>35.0              </td><td>0.0               </td><td>33.6             </td><td>0.627                     </td><td>50.0              </td><td>1.0                </td></tr>\n",
       "<tr><td>1      </td><td>1.0              </td><td>85.0              </td><td>66.0              </td><td>29.0              </td><td>0.0               </td><td>26.6             </td><td>0.351                     </td><td>31.0              </td><td>0.0                </td></tr>\n",
       "<tr><td>2      </td><td>8.0              </td><td>183.0             </td><td>64.0              </td><td>0.0               </td><td>0.0               </td><td>23.3             </td><td>0.672                     </td><td>32.0              </td><td>1.0                </td></tr>\n",
       "<tr><td>3      </td><td>1.0              </td><td>89.0              </td><td>66.0              </td><td>23.0              </td><td>94.0              </td><td>28.1             </td><td>0.167                     </td><td>21.0              </td><td>0.0                </td></tr>\n",
       "<tr><td>4      </td><td>0.0              </td><td>137.0             </td><td>40.0              </td><td>35.0              </td><td>168.0             </td><td>43.1             </td><td>2.288                     </td><td>33.0              </td><td>1.0                </td></tr>\n",
       "<tr><td>5      </td><td>5.0              </td><td>116.0             </td><td>74.0              </td><td>0.0               </td><td>0.0               </td><td>25.6             </td><td>0.201                     </td><td>30.0              </td><td>0.0                </td></tr>\n",
       "<tr><td>6      </td><td>3.0              </td><td>78.0              </td><td>50.0              </td><td>32.0              </td><td>88.0              </td><td>31.0             </td><td>0.248                     </td><td>26.0              </td><td>1.0                </td></tr>\n",
       "<tr><td>7      </td><td>10.0             </td><td>115.0             </td><td>0.0               </td><td>0.0               </td><td>0.0               </td><td>35.3             </td><td>0.134                     </td><td>29.0              </td><td>0.0                </td></tr>\n",
       "<tr><td>8      </td><td>2.0              </td><td>197.0             </td><td>70.0              </td><td>45.0              </td><td>543.0             </td><td>30.5             </td><td>0.158                     </td><td>53.0              </td><td>1.0                </td></tr>\n",
       "<tr><td>9      </td><td>8.0              </td><td>125.0             </td><td>96.0              </td><td>0.0               </td><td>0.0               </td><td>0.0              </td><td>0.232                     </td><td>54.0              </td><td>1.0                </td></tr>\n",
       "</tbody>\n",
       "</table>"
      ]
     },
     "metadata": {},
     "output_type": "display_data"
    }
   ],
   "source": [
    "diabetes_data.describe()"
   ]
  },
  {
   "cell_type": "code",
   "execution_count": 7,
   "metadata": {},
   "outputs": [],
   "source": [
    "diabetes_split = diabetes_data.split_frame(ratios = [0.8])"
   ]
  },
  {
   "cell_type": "code",
   "execution_count": 8,
   "metadata": {},
   "outputs": [],
   "source": [
    "db_train = diabetes_split[0] "
   ]
  },
  {
   "cell_type": "code",
   "execution_count": 9,
   "metadata": {},
   "outputs": [],
   "source": [
    "db_test = diabetes_split[1] "
   ]
  },
  {
   "cell_type": "code",
   "execution_count": 10,
   "metadata": {},
   "outputs": [],
   "source": [
    "x=['Pregnancies','Glucose', 'BloodPressure','SkinThickness','Insulin','BMI','DiabetesPedigreeFunction','Age']"
   ]
  },
  {
   "cell_type": "code",
   "execution_count": 11,
   "metadata": {},
   "outputs": [],
   "source": [
    "y='Outcome'"
   ]
  },
  {
   "cell_type": "code",
   "execution_count": 15,
   "metadata": {},
   "outputs": [],
   "source": [
    "automl = H2OAutoML(max_models = 30, max_runtime_secs=300, seed = 1)"
   ]
  },
  {
   "cell_type": "code",
   "execution_count": 16,
   "metadata": {},
   "outputs": [
    {
     "name": "stdout",
     "output_type": "stream",
     "text": [
      "AutoML progress: |\n",
      "16:18:18.745: AutoML: XGBoost is not available; skipping it.\n",
      "\n",
      "████████████████████████████████████████████████████████| 100%\n"
     ]
    }
   ],
   "source": [
    "automl.train(x = x, y = y, training_frame = db_train)"
   ]
  },
  {
   "cell_type": "code",
   "execution_count": 17,
   "metadata": {},
   "outputs": [],
   "source": [
    "leader = automl.leaderboard"
   ]
  },
  {
   "cell_type": "code",
   "execution_count": 18,
   "metadata": {},
   "outputs": [
    {
     "data": {
      "text/html": [
       "<table>\n",
       "<thead>\n",
       "<tr><th>model_id                                           </th><th style=\"text-align: right;\">  mean_residual_deviance</th><th style=\"text-align: right;\">    rmse</th><th style=\"text-align: right;\">     mse</th><th style=\"text-align: right;\">     mae</th><th style=\"text-align: right;\">   rmsle</th></tr>\n",
       "</thead>\n",
       "<tbody>\n",
       "<tr><td>StackedEnsemble_BestOfFamily_AutoML_20200823_161818</td><td style=\"text-align: right;\">                0.15938 </td><td style=\"text-align: right;\">0.399224</td><td style=\"text-align: right;\">0.15938 </td><td style=\"text-align: right;\">0.322917</td><td style=\"text-align: right;\">0.281566</td></tr>\n",
       "<tr><td>GBM_grid__1_AutoML_20200823_161818_model_6         </td><td style=\"text-align: right;\">                0.160008</td><td style=\"text-align: right;\">0.40001 </td><td style=\"text-align: right;\">0.160008</td><td style=\"text-align: right;\">0.320315</td><td style=\"text-align: right;\">0.281537</td></tr>\n",
       "<tr><td>StackedEnsemble_AllModels_AutoML_20200823_161818   </td><td style=\"text-align: right;\">                0.160167</td><td style=\"text-align: right;\">0.400209</td><td style=\"text-align: right;\">0.160167</td><td style=\"text-align: right;\">0.322584</td><td style=\"text-align: right;\">0.28242 </td></tr>\n",
       "<tr><td>GBM_3_AutoML_20200823_161818                       </td><td style=\"text-align: right;\">                0.162781</td><td style=\"text-align: right;\">0.403461</td><td style=\"text-align: right;\">0.162781</td><td style=\"text-align: right;\">0.311265</td><td style=\"text-align: right;\">0.284449</td></tr>\n",
       "<tr><td>XRT_1_AutoML_20200823_161818                       </td><td style=\"text-align: right;\">                0.163861</td><td style=\"text-align: right;\">0.404798</td><td style=\"text-align: right;\">0.163861</td><td style=\"text-align: right;\">0.322862</td><td style=\"text-align: right;\">0.284456</td></tr>\n",
       "<tr><td>DRF_1_AutoML_20200823_161818                       </td><td style=\"text-align: right;\">                0.164826</td><td style=\"text-align: right;\">0.405988</td><td style=\"text-align: right;\">0.164826</td><td style=\"text-align: right;\">0.324054</td><td style=\"text-align: right;\">0.285984</td></tr>\n",
       "<tr><td>GLM_1_AutoML_20200823_161818                       </td><td style=\"text-align: right;\">                0.16487 </td><td style=\"text-align: right;\">0.406042</td><td style=\"text-align: right;\">0.16487 </td><td style=\"text-align: right;\">0.343517</td><td style=\"text-align: right;\">0.291455</td></tr>\n",
       "<tr><td>GBM_5_AutoML_20200823_161818                       </td><td style=\"text-align: right;\">                0.165161</td><td style=\"text-align: right;\">0.4064  </td><td style=\"text-align: right;\">0.165161</td><td style=\"text-align: right;\">0.340977</td><td style=\"text-align: right;\">0.285877</td></tr>\n",
       "<tr><td>GBM_grid__1_AutoML_20200823_161818_model_8         </td><td style=\"text-align: right;\">                0.166029</td><td style=\"text-align: right;\">0.407467</td><td style=\"text-align: right;\">0.166029</td><td style=\"text-align: right;\">0.345847</td><td style=\"text-align: right;\">0.286949</td></tr>\n",
       "<tr><td>GBM_4_AutoML_20200823_161818                       </td><td style=\"text-align: right;\">                0.166123</td><td style=\"text-align: right;\">0.407582</td><td style=\"text-align: right;\">0.166123</td><td style=\"text-align: right;\">0.312692</td><td style=\"text-align: right;\">0.287628</td></tr>\n",
       "</tbody>\n",
       "</table>"
      ]
     },
     "metadata": {},
     "output_type": "display_data"
    },
    {
     "data": {
      "text/plain": []
     },
     "execution_count": 18,
     "metadata": {},
     "output_type": "execute_result"
    }
   ],
   "source": [
    "leader.head()"
   ]
  },
  {
   "cell_type": "code",
   "execution_count": 19,
   "metadata": {},
   "outputs": [
    {
     "data": {
      "text/html": [
       "<table>\n",
       "<thead>\n",
       "<tr><th>model_id                                           </th><th style=\"text-align: right;\">  mean_residual_deviance</th><th style=\"text-align: right;\">    rmse</th><th style=\"text-align: right;\">     mse</th><th style=\"text-align: right;\">     mae</th><th style=\"text-align: right;\">   rmsle</th></tr>\n",
       "</thead>\n",
       "<tbody>\n",
       "<tr><td>StackedEnsemble_BestOfFamily_AutoML_20200823_161818</td><td style=\"text-align: right;\">                0.15938 </td><td style=\"text-align: right;\">0.399224</td><td style=\"text-align: right;\">0.15938 </td><td style=\"text-align: right;\">0.322917</td><td style=\"text-align: right;\">0.281566</td></tr>\n",
       "<tr><td>GBM_grid__1_AutoML_20200823_161818_model_6         </td><td style=\"text-align: right;\">                0.160008</td><td style=\"text-align: right;\">0.40001 </td><td style=\"text-align: right;\">0.160008</td><td style=\"text-align: right;\">0.320315</td><td style=\"text-align: right;\">0.281537</td></tr>\n",
       "<tr><td>StackedEnsemble_AllModels_AutoML_20200823_161818   </td><td style=\"text-align: right;\">                0.160167</td><td style=\"text-align: right;\">0.400209</td><td style=\"text-align: right;\">0.160167</td><td style=\"text-align: right;\">0.322584</td><td style=\"text-align: right;\">0.28242 </td></tr>\n",
       "<tr><td>GBM_3_AutoML_20200823_161818                       </td><td style=\"text-align: right;\">                0.162781</td><td style=\"text-align: right;\">0.403461</td><td style=\"text-align: right;\">0.162781</td><td style=\"text-align: right;\">0.311265</td><td style=\"text-align: right;\">0.284449</td></tr>\n",
       "<tr><td>XRT_1_AutoML_20200823_161818                       </td><td style=\"text-align: right;\">                0.163861</td><td style=\"text-align: right;\">0.404798</td><td style=\"text-align: right;\">0.163861</td><td style=\"text-align: right;\">0.322862</td><td style=\"text-align: right;\">0.284456</td></tr>\n",
       "<tr><td>DRF_1_AutoML_20200823_161818                       </td><td style=\"text-align: right;\">                0.164826</td><td style=\"text-align: right;\">0.405988</td><td style=\"text-align: right;\">0.164826</td><td style=\"text-align: right;\">0.324054</td><td style=\"text-align: right;\">0.285984</td></tr>\n",
       "<tr><td>GLM_1_AutoML_20200823_161818                       </td><td style=\"text-align: right;\">                0.16487 </td><td style=\"text-align: right;\">0.406042</td><td style=\"text-align: right;\">0.16487 </td><td style=\"text-align: right;\">0.343517</td><td style=\"text-align: right;\">0.291455</td></tr>\n",
       "<tr><td>GBM_5_AutoML_20200823_161818                       </td><td style=\"text-align: right;\">                0.165161</td><td style=\"text-align: right;\">0.4064  </td><td style=\"text-align: right;\">0.165161</td><td style=\"text-align: right;\">0.340977</td><td style=\"text-align: right;\">0.285877</td></tr>\n",
       "<tr><td>GBM_grid__1_AutoML_20200823_161818_model_8         </td><td style=\"text-align: right;\">                0.166029</td><td style=\"text-align: right;\">0.407467</td><td style=\"text-align: right;\">0.166029</td><td style=\"text-align: right;\">0.345847</td><td style=\"text-align: right;\">0.286949</td></tr>\n",
       "<tr><td>GBM_4_AutoML_20200823_161818                       </td><td style=\"text-align: right;\">                0.166123</td><td style=\"text-align: right;\">0.407582</td><td style=\"text-align: right;\">0.166123</td><td style=\"text-align: right;\">0.312692</td><td style=\"text-align: right;\">0.287628</td></tr>\n",
       "<tr><td>GBM_grid__1_AutoML_20200823_161818_model_5         </td><td style=\"text-align: right;\">                0.166509</td><td style=\"text-align: right;\">0.408055</td><td style=\"text-align: right;\">0.166509</td><td style=\"text-align: right;\">0.346303</td><td style=\"text-align: right;\">0.287438</td></tr>\n",
       "<tr><td>GBM_grid__1_AutoML_20200823_161818_model_4         </td><td style=\"text-align: right;\">                0.169203</td><td style=\"text-align: right;\">0.411343</td><td style=\"text-align: right;\">0.169203</td><td style=\"text-align: right;\">0.337433</td><td style=\"text-align: right;\">0.290313</td></tr>\n",
       "<tr><td>GBM_2_AutoML_20200823_161818                       </td><td style=\"text-align: right;\">                0.169483</td><td style=\"text-align: right;\">0.411683</td><td style=\"text-align: right;\">0.169483</td><td style=\"text-align: right;\">0.322661</td><td style=\"text-align: right;\">0.290352</td></tr>\n",
       "<tr><td>DeepLearning_1_AutoML_20200823_161818              </td><td style=\"text-align: right;\">                0.170849</td><td style=\"text-align: right;\">0.413339</td><td style=\"text-align: right;\">0.170849</td><td style=\"text-align: right;\">0.343453</td><td style=\"text-align: right;\">0.297072</td></tr>\n",
       "<tr><td>GBM_grid__1_AutoML_20200823_161818_model_3         </td><td style=\"text-align: right;\">                0.170923</td><td style=\"text-align: right;\">0.413428</td><td style=\"text-align: right;\">0.170923</td><td style=\"text-align: right;\">0.358712</td><td style=\"text-align: right;\">0.290401</td></tr>\n",
       "<tr><td>GBM_grid__1_AutoML_20200823_161818_model_1         </td><td style=\"text-align: right;\">                0.172204</td><td style=\"text-align: right;\">0.414974</td><td style=\"text-align: right;\">0.172204</td><td style=\"text-align: right;\">0.313802</td><td style=\"text-align: right;\">0.290649</td></tr>\n",
       "<tr><td>GBM_1_AutoML_20200823_161818                       </td><td style=\"text-align: right;\">                0.173615</td><td style=\"text-align: right;\">0.416671</td><td style=\"text-align: right;\">0.173615</td><td style=\"text-align: right;\">0.325639</td><td style=\"text-align: right;\">0.293561</td></tr>\n",
       "<tr><td>DeepLearning_grid__2_AutoML_20200823_161818_model_1</td><td style=\"text-align: right;\">                0.175311</td><td style=\"text-align: right;\">0.418701</td><td style=\"text-align: right;\">0.175311</td><td style=\"text-align: right;\">0.358341</td><td style=\"text-align: right;\">0.302895</td></tr>\n",
       "<tr><td>DeepLearning_grid__1_AutoML_20200823_161818_model_2</td><td style=\"text-align: right;\">                0.175534</td><td style=\"text-align: right;\">0.418968</td><td style=\"text-align: right;\">0.175534</td><td style=\"text-align: right;\">0.345289</td><td style=\"text-align: right;\">0.306145</td></tr>\n",
       "<tr><td>GBM_grid__1_AutoML_20200823_161818_model_7         </td><td style=\"text-align: right;\">                0.182454</td><td style=\"text-align: right;\">0.427147</td><td style=\"text-align: right;\">0.182454</td><td style=\"text-align: right;\">0.351836</td><td style=\"text-align: right;\">0.300943</td></tr>\n",
       "<tr><td>DeepLearning_grid__1_AutoML_20200823_161818_model_3</td><td style=\"text-align: right;\">                0.182607</td><td style=\"text-align: right;\">0.427325</td><td style=\"text-align: right;\">0.182607</td><td style=\"text-align: right;\">0.356304</td><td style=\"text-align: right;\">0.316073</td></tr>\n",
       "<tr><td>GBM_grid__1_AutoML_20200823_161818_model_2         </td><td style=\"text-align: right;\">                0.183265</td><td style=\"text-align: right;\">0.428095</td><td style=\"text-align: right;\">0.183265</td><td style=\"text-align: right;\">0.343185</td><td style=\"text-align: right;\">0.302134</td></tr>\n",
       "<tr><td>DeepLearning_grid__1_AutoML_20200823_161818_model_1</td><td style=\"text-align: right;\">                0.184872</td><td style=\"text-align: right;\">0.429967</td><td style=\"text-align: right;\">0.184872</td><td style=\"text-align: right;\">0.33652 </td><td style=\"text-align: right;\">0.304691</td></tr>\n",
       "<tr><td>DeepLearning_grid__3_AutoML_20200823_161818_model_2</td><td style=\"text-align: right;\">                0.1916  </td><td style=\"text-align: right;\">0.437721</td><td style=\"text-align: right;\">0.1916  </td><td style=\"text-align: right;\">0.339814</td><td style=\"text-align: right;\">0.306183</td></tr>\n",
       "<tr><td>DeepLearning_grid__3_AutoML_20200823_161818_model_1</td><td style=\"text-align: right;\">                0.205354</td><td style=\"text-align: right;\">0.45316 </td><td style=\"text-align: right;\">0.205354</td><td style=\"text-align: right;\">0.344102</td><td style=\"text-align: right;\">0.320276</td></tr>\n",
       "<tr><td>DeepLearning_grid__2_AutoML_20200823_161818_model_2</td><td style=\"text-align: right;\">                0.206196</td><td style=\"text-align: right;\">0.454088</td><td style=\"text-align: right;\">0.206196</td><td style=\"text-align: right;\">0.369577</td><td style=\"text-align: right;\">0.323761</td></tr>\n",
       "</tbody>\n",
       "</table>"
      ]
     },
     "metadata": {},
     "output_type": "display_data"
    },
    {
     "data": {
      "text/plain": []
     },
     "execution_count": 19,
     "metadata": {},
     "output_type": "execute_result"
    }
   ],
   "source": [
    "leader.head(rows=leader.nrows)"
   ]
  },
  {
   "cell_type": "code",
   "execution_count": 20,
   "metadata": {},
   "outputs": [
    {
     "name": "stdout",
     "output_type": "stream",
     "text": [
      "stackedensemble prediction progress: |████████████████████████████████████| 100%\n"
     ]
    }
   ],
   "source": [
    "predictions = automl.predict(db_test[:-1])"
   ]
  },
  {
   "cell_type": "code",
   "execution_count": 21,
   "metadata": {},
   "outputs": [
    {
     "data": {
      "text/plain": [
       "predict    0.0\n",
       "dtype: float64"
      ]
     },
     "execution_count": 21,
     "metadata": {},
     "output_type": "execute_result"
    }
   ],
   "source": [
    "(predictions['predict']==db_test['Outcome']).as_data_frame(use_pandas=True).mean()"
   ]
  },
  {
   "cell_type": "code",
   "execution_count": 23,
   "metadata": {},
   "outputs": [
    {
     "data": {
      "text/plain": [
       "'C:\\\\Users\\\\simra\\\\DS_ML_Projects\\\\DataSciencePractice\\\\H20AI_AutoML\\\\StackedEnsemble_BestOfFamily_AutoML_20200823_161818'"
      ]
     },
     "execution_count": 23,
     "metadata": {},
     "output_type": "execute_result"
    }
   ],
   "source": [
    "h2o.save_model(automl.leader, path = \"C:/Users/simra/DS_ML_Projects/DataSciencePractice/H20AI_AutoML\")"
   ]
  },
  {
   "cell_type": "code",
   "execution_count": 24,
   "metadata": {},
   "outputs": [
    {
     "name": "stderr",
     "output_type": "stream",
     "text": [
      "C:\\Users\\simra\\Anaconda3\\lib\\site-packages\\ipykernel_launcher.py:1: DeprecationWarning: Deprecated, use ``h2o.cluster().shutdown()``.\n",
      "  \"\"\"Entry point for launching an IPython kernel.\n"
     ]
    },
    {
     "name": "stdout",
     "output_type": "stream",
     "text": [
      "H2O session _sid_94a2 closed.\n"
     ]
    }
   ],
   "source": [
    "h2o.shutdown()"
   ]
  },
  {
   "cell_type": "code",
   "execution_count": null,
   "metadata": {},
   "outputs": [],
   "source": []
  }
 ],
 "metadata": {
  "kernelspec": {
   "display_name": "Python 3",
   "language": "python",
   "name": "python3"
  },
  "language_info": {
   "codemirror_mode": {
    "name": "ipython",
    "version": 3
   },
   "file_extension": ".py",
   "mimetype": "text/x-python",
   "name": "python",
   "nbconvert_exporter": "python",
   "pygments_lexer": "ipython3",
   "version": "3.7.3"
  }
 },
 "nbformat": 4,
 "nbformat_minor": 2
}
