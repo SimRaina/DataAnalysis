{
 "cells": [
  {
   "cell_type": "code",
   "execution_count": 1,
   "metadata": {},
   "outputs": [],
   "source": [
    "import sqlite3"
   ]
  },
  {
   "cell_type": "markdown",
   "metadata": {},
   "source": [
    "## Connect to db"
   ]
  },
  {
   "cell_type": "code",
   "execution_count": 6,
   "metadata": {},
   "outputs": [],
   "source": [
    "connection = sqlite3.connect(\"classroomDB.db\")\n",
    "cursor = connection.cursor()\n",
    "create_table = \"\"\"\n",
    "              CREATE TABLE classroom1 (\n",
    "              student_id INTEGER PRIMARY KEY,\n",
    "              name VARCHAR(20),\n",
    "              gender CHAR(1),\n",
    "              physics_marks INTEGER,\n",
    "              chemistry_marks INTEGER,\n",
    "              mathematics_marks INTEGER\n",
    "              );\n",
    "              \"\"\"\n",
    "cursor.execute(create_table)\n",
    "connection.commit()\n",
    "connection.close()"
   ]
  },
  {
   "cell_type": "code",
   "execution_count": 10,
   "metadata": {},
   "outputs": [],
   "source": [
    "classroom_data = [(1, \"Raj\", \"M\", 80,89,88),\n",
    "                  (2, \"Lara\", \"F\", 99, 88,87),\n",
    "                  (3, \"Rehman\", \"M\", 98,97,94)]\n",
    "\n",
    "connection=sqlite3.connect(\"classroomDB.db\")\n",
    "cursor=connection.cursor()\n",
    "for student in classroom_data:\n",
    "    insert_statement = \"\"\"\n",
    "                       INSERT INTO classroom\n",
    "                       (student_id, name, gender, physics_marks, chemistry_marks, mathematics_marks)\n",
    "                       VALUES ({0}, \"{1}\", \"{2}\", {3},{4},{5});\"\"\".format(student[0], student[1], student[2], student[3],\n",
    "                                                                         student[4], student[5])\n",
    "    \n",
    "    cursor.execute(insert_statement)\n",
    "\n",
    "connection.commit()\n",
    "connection.close()"
   ]
  },
  {
   "cell_type": "code",
   "execution_count": 12,
   "metadata": {},
   "outputs": [
    {
     "name": "stdout",
     "output_type": "stream",
     "text": [
      "(1, 'Raj', 'M', 80, 89, 88)\n",
      "(2, 'Lara', 'F', 99, 88, 87)\n",
      "(3, 'Rehman', 'M', 98, 97, 94)\n"
     ]
    }
   ],
   "source": [
    "connection=sqlite3.connect(\"classroomDB.db\")\n",
    "cursor=connection.cursor()\n",
    "query=\"SELECT * FROM classroom\"\n",
    "cursor.execute(query)\n",
    "result=cursor.fetchall()\n",
    "for row in result:\n",
    "    print(row)\n",
    "connection.close()"
   ]
  },
  {
   "cell_type": "code",
   "execution_count": null,
   "metadata": {},
   "outputs": [],
   "source": [
    "# MySQL db \n",
    "!conda install -y -q pymysql"
   ]
  },
  {
   "cell_type": "code",
   "execution_count": null,
   "metadata": {},
   "outputs": [],
   "source": []
  }
 ],
 "metadata": {
  "kernelspec": {
   "display_name": "Python 3",
   "language": "python",
   "name": "python3"
  },
  "language_info": {
   "codemirror_mode": {
    "name": "ipython",
    "version": 3
   },
   "file_extension": ".py",
   "mimetype": "text/x-python",
   "name": "python",
   "nbconvert_exporter": "python",
   "pygments_lexer": "ipython3",
   "version": "3.7.3"
  }
 },
 "nbformat": 4,
 "nbformat_minor": 2
}
