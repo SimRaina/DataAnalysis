{
 "cells": [
  {
   "cell_type": "code",
   "execution_count": 5,
   "metadata": {},
   "outputs": [],
   "source": [
    "import requests\n",
    "from bs4 import BeautifulSoup"
   ]
  },
  {
   "cell_type": "code",
   "execution_count": 6,
   "metadata": {},
   "outputs": [],
   "source": [
    "r = requests.get('http://www.elections.in/andaman-and-nicobar-islands/parliamentary-constituencies/candidate-list.html')"
   ]
  },
  {
   "cell_type": "code",
   "execution_count": 7,
   "metadata": {},
   "outputs": [
    {
     "name": "stdout",
     "output_type": "stream",
     "text": [
      "Andaman & Nicobar Islands list of candidates, Andaman & Nicobar Islands INC CANDIDATE LIST, candidate list Andaman & Nicobar Islands, 2014 candidates Andaman & Nicobar Islands, INC candidate list Andaman & Nicobar Islands, BJP candidate list Andaman & Nicobar Islands, Congress candidate list Andaman & Nicobar Islands, final list of candidates for Andaman & Nicobar Islands, AAP candidate list Andaman & Nicobar Islands, Andaman & Nicobar Islands candidates for 2019 lok sabha elections, Andaman & Nicobar Islands lok sabha candidates 2019, Andaman & Nicobar Islands general elections candidates, general elections candidate list 2019 for andaman and nicobar islands\" /> \r\n",
      "<meta http-equiv=\"content-type\" content=\"text/html; charset=UTF-8\" />\r\n",
      "<!--[if IE]> <script src=\"http://html5shiv.googlecode.com/svn/trunk/html5.js\"></script><![endif]-->\r\n",
      "<!--[if lt IE 9]><script src=\"http://ie7-js.googlecode\n"
     ]
    }
   ],
   "source": [
    "print(r.text[600:1500])"
   ]
  },
  {
   "cell_type": "code",
   "execution_count": 8,
   "metadata": {},
   "outputs": [],
   "source": [
    "soup = BeautifulSoup(r.text, 'html.parser')"
   ]
  },
  {
   "cell_type": "code",
   "execution_count": 11,
   "metadata": {},
   "outputs": [],
   "source": [
    "results = soup.find_all('table', attrs={'class', 'tableizer-table'})"
   ]
  },
  {
   "cell_type": "code",
   "execution_count": 12,
   "metadata": {},
   "outputs": [
    {
     "data": {
      "text/plain": [
       "17"
      ]
     },
     "execution_count": 12,
     "metadata": {},
     "output_type": "execute_result"
    }
   ],
   "source": [
    "len(results)"
   ]
  },
  {
   "cell_type": "code",
   "execution_count": 14,
   "metadata": {},
   "outputs": [
    {
     "data": {
      "text/plain": [
       "[<table class=\"tableizer-table\">\n",
       " <thead><tr class=\"tableizer-firstrow\"><th>Sr. No.</th><th>State</th><th>Name of Counstituency </th><th>Selected Candidates</th></tr></thead><tbody>\n",
       " <tr><td>1</td><td>Andaman and Nicobar Islands</td><td><a href=\"http://www.elections.in/andaman-and-nicobar-islands/parliamentary-constituencies/\">Andaman and Nicobar Islands</a></td><td>C G Saji Kumar</td></tr>\n",
       " </tbody></table>]"
      ]
     },
     "execution_count": 14,
     "metadata": {},
     "output_type": "execute_result"
    }
   ],
   "source": [
    "results[4:5]"
   ]
  },
  {
   "cell_type": "code",
   "execution_count": null,
   "metadata": {},
   "outputs": [],
   "source": []
  }
 ],
 "metadata": {
  "kernelspec": {
   "display_name": "Python 3",
   "language": "python",
   "name": "python3"
  },
  "language_info": {
   "codemirror_mode": {
    "name": "ipython",
    "version": 3
   },
   "file_extension": ".py",
   "mimetype": "text/x-python",
   "name": "python",
   "nbconvert_exporter": "python",
   "pygments_lexer": "ipython3",
   "version": "3.7.3"
  }
 },
 "nbformat": 4,
 "nbformat_minor": 2
}
