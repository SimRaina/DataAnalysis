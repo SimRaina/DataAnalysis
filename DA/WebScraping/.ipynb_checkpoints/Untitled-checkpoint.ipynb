{
 "cells": [
  {
   "cell_type": "code",
   "execution_count": 1,
   "metadata": {},
   "outputs": [],
   "source": [
    "import requests\n",
    "from bs4 import BeautifulSoup"
   ]
  },
  {
   "cell_type": "code",
   "execution_count": 28,
   "metadata": {},
   "outputs": [],
   "source": [
    "html_string = \"\"\"\n",
    "<!doctype html>\n",
    "<html land=\"en\">\n",
    "<head>\n",
    " <title>This is DS Practice</title>\n",
    "<head>\n",
    "<body>\n",
    " <h1 style=\"color:#F15B2A;\">This is DS Practice</h1>\n",
    " <p id=\"author\">Author: Simran Raina</p>\n",
    " <p id=\"description\">This is DS Practice for Web Scraping using Python</p>\n",
    " \n",
    " <h3 stype=\"color:#404040;\">Module</h3>\n",
    " <table id=\"module\" style=\"width:100%\">\n",
    "  <tr>\n",
    "   <th>Title</th>\n",
    "   <th>Duration</th>\n",
    " </tr>\n",
    " <tr>\n",
    "  <td>Getting Started</td>\n",
    "  <td>20</td>\n",
    " </tr>\n",
    " <tr>\n",
    "  <td>Setting up Environment</td>\n",
    "  <td>40</td>\n",
    " </tr>\n",
    " <tr>\n",
    "  <td>Extracting Data</td>\n",
    "  <td>30</td>\n",
    " </tr>\n",
    "</table>\n",
    "</body>\n",
    "</html>\n",
    "\"\"\""
   ]
  },
  {
   "cell_type": "code",
   "execution_count": 29,
   "metadata": {},
   "outputs": [
    {
     "data": {
      "text/html": [
       "\n",
       "<!doctype html>\n",
       "<html land=\"en\">\n",
       "<head>\n",
       " <title>This is DS Practice</title>\n",
       "<head>\n",
       "<body>\n",
       " <h1 style=\"color:#F15B2A;\">This is DS Practice</h1>\n",
       " <p id=\"author\">Author: Simran Raina</p>\n",
       " <p id=\"description\">This is DS Practice for Web Scraping using Python</p>\n",
       " \n",
       " <h3 stype=\"color:#404040;\">Module</h3>\n",
       " <table id=\"module\" style=\"width:100%\">\n",
       "  <tr>\n",
       "   <th>Title</th>\n",
       "   <th>Duration</th>\n",
       " </tr>\n",
       " <tr>\n",
       "  <td>Getting Started</td>\n",
       "  <td>20</td>\n",
       " </tr>\n",
       " <tr>\n",
       "  <td>Setting up Environment</td>\n",
       "  <td>40</td>\n",
       " </tr>\n",
       " <tr>\n",
       "  <td>Extracting Data</td>\n",
       "  <td>30</td>\n",
       " </tr>\n",
       "</table>\n",
       "</body>\n",
       "</html>\n"
      ],
      "text/plain": [
       "<IPython.core.display.HTML object>"
      ]
     },
     "metadata": {},
     "output_type": "display_data"
    }
   ],
   "source": [
    "# disply HTML string\n",
    "from IPython.core.display import display, HTML\n",
    "display(HTML(html_string))"
   ]
  },
  {
   "cell_type": "code",
   "execution_count": 30,
   "metadata": {},
   "outputs": [],
   "source": [
    "ps=BeautifulSoup(html_string)"
   ]
  },
  {
   "cell_type": "code",
   "execution_count": 31,
   "metadata": {},
   "outputs": [
    {
     "name": "stdout",
     "output_type": "stream",
     "text": [
      "<!DOCTYPE html>\n",
      "<html land=\"en\">\n",
      "<head>\n",
      "<title>This is DS Practice</title>\n",
      "</head><body>\n",
      "<h1 style=\"color:#F15B2A;\">This is DS Practice</h1>\n",
      "<p id=\"author\">Author: Simran Raina</p>\n",
      "<p id=\"description\">This is DS Practice for Web Scraping using Python</p>\n",
      "<h3 stype=\"color:#404040;\">Module</h3>\n",
      "<table id=\"module\" style=\"width:100%\">\n",
      "<tr>\n",
      "<th>Title</th>\n",
      "<th>Duration</th>\n",
      "</tr>\n",
      "<tr>\n",
      "<td>Getting Started</td>\n",
      "<td>20</td>\n",
      "</tr>\n",
      "<tr>\n",
      "<td>Setting up Environment</td>\n",
      "<td>40</td>\n",
      "</tr>\n",
      "<tr>\n",
      "<td>Extracting Data</td>\n",
      "<td>30</td>\n",
      "</tr>\n",
      "</table>\n",
      "</body></html>\n",
      "\n"
     ]
    }
   ],
   "source": [
    "print(ps)"
   ]
  },
  {
   "cell_type": "code",
   "execution_count": 32,
   "metadata": {},
   "outputs": [],
   "source": [
    "body=ps.find(name=\"body\")"
   ]
  },
  {
   "cell_type": "code",
   "execution_count": 33,
   "metadata": {},
   "outputs": [
    {
     "name": "stdout",
     "output_type": "stream",
     "text": [
      "<body>\n",
      "<h1 style=\"color:#F15B2A;\">This is DS Practice</h1>\n",
      "<p id=\"author\">Author: Simran Raina</p>\n",
      "<p id=\"description\">This is DS Practice for Web Scraping using Python</p>\n",
      "<h3 stype=\"color:#404040;\">Module</h3>\n",
      "<table id=\"module\" style=\"width:100%\">\n",
      "<tr>\n",
      "<th>Title</th>\n",
      "<th>Duration</th>\n",
      "</tr>\n",
      "<tr>\n",
      "<td>Getting Started</td>\n",
      "<td>20</td>\n",
      "</tr>\n",
      "<tr>\n",
      "<td>Setting up Environment</td>\n",
      "<td>40</td>\n",
      "</tr>\n",
      "<tr>\n",
      "<td>Extracting Data</td>\n",
      "<td>30</td>\n",
      "</tr>\n",
      "</table>\n",
      "</body>\n"
     ]
    }
   ],
   "source": [
    "print(body)"
   ]
  },
  {
   "cell_type": "code",
   "execution_count": 34,
   "metadata": {},
   "outputs": [
    {
     "name": "stdout",
     "output_type": "stream",
     "text": [
      "<p id=\"author\">Author: Simran Raina</p>\n"
     ]
    }
   ],
   "source": [
    "# get first p\n",
    "print(body.find(name=\"p\"))"
   ]
  },
  {
   "cell_type": "code",
   "execution_count": 35,
   "metadata": {},
   "outputs": [
    {
     "name": "stdout",
     "output_type": "stream",
     "text": [
      "[<p id=\"author\">Author: Simran Raina</p>, <p id=\"description\">This is DS Practice for Web Scraping using Python</p>]\n"
     ]
    }
   ],
   "source": [
    "# get all p\n",
    "print(body.findAll(name=\"p\"))"
   ]
  },
  {
   "cell_type": "code",
   "execution_count": 36,
   "metadata": {},
   "outputs": [
    {
     "name": "stdout",
     "output_type": "stream",
     "text": [
      "Author: Simran Raina\n",
      "This is DS Practice for Web Scraping using Python\n"
     ]
    }
   ],
   "source": [
    "for ele in body.findAll(name=\"p\"):\n",
    "    print(ele.text)"
   ]
  },
  {
   "cell_type": "code",
   "execution_count": 37,
   "metadata": {},
   "outputs": [
    {
     "name": "stdout",
     "output_type": "stream",
     "text": [
      "<p id=\"author\">Author: Simran Raina</p>\n"
     ]
    }
   ],
   "source": [
    "print(body.find(name=\"p\", attrs={\"id\":\"author\"}))"
   ]
  },
  {
   "cell_type": "code",
   "execution_count": 38,
   "metadata": {},
   "outputs": [
    {
     "name": "stdout",
     "output_type": "stream",
     "text": [
      "<p id=\"description\">This is DS Practice for Web Scraping using Python</p>\n"
     ]
    }
   ],
   "source": [
    "print(body.find(name=\"p\", attrs={\"id\":\"description\"}))"
   ]
  },
  {
   "cell_type": "code",
   "execution_count": 41,
   "metadata": {},
   "outputs": [
    {
     "name": "stdout",
     "output_type": "stream",
     "text": [
      "Getting Started 20\n",
      "Setting up Environment 40\n",
      "Extracting Data 30\n"
     ]
    }
   ],
   "source": [
    "body=ps.find(name=\"body\")\n",
    "module_table=body.find(name=\"table\", attrs={\"id\":\"module\"})\n",
    "for row in module_table.findAll(name=\"tr\")[1:]:\n",
    "    title=row.findAll(name=\"td\")[0].text\n",
    "    duration=int(row.findAll(name=\"td\")[1].text)\n",
    "    print (title, duration)\n"
   ]
  },
  {
   "cell_type": "code",
   "execution_count": null,
   "metadata": {},
   "outputs": [],
   "source": []
  }
 ],
 "metadata": {
  "kernelspec": {
   "display_name": "Python 3",
   "language": "python",
   "name": "python3"
  },
  "language_info": {
   "codemirror_mode": {
    "name": "ipython",
    "version": 3
   },
   "file_extension": ".py",
   "mimetype": "text/x-python",
   "name": "python",
   "nbconvert_exporter": "python",
   "pygments_lexer": "ipython3",
   "version": "3.7.3"
  }
 },
 "nbformat": 4,
 "nbformat_minor": 2
}
