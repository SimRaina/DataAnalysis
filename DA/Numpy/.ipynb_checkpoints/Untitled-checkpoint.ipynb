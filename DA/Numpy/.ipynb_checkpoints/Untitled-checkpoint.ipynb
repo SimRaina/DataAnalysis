{
 "cells": [
  {
   "cell_type": "code",
   "execution_count": 2,
   "metadata": {},
   "outputs": [
    {
     "name": "stdout",
     "output_type": "stream",
     "text": [
      "Array 1 :  [ 1.4  7.   8.  12.3]\n"
     ]
    }
   ],
   "source": [
    "from numpy import *\n",
    "# Single Dimensional Array\n",
    "array_data1 = [1.4, 7, 8, 12.3]\n",
    "array1 = array(array_data1)\n",
    "print(\"Array 1 : \",array1)"
   ]
  },
  {
   "cell_type": "code",
   "execution_count": 3,
   "metadata": {},
   "outputs": [
    {
     "name": "stdout",
     "output_type": "stream",
     "text": [
      "Array 2:  [[1 2 3 4]\n",
      " [5 6 7 8]]\n"
     ]
    }
   ],
   "source": [
    "# Multi dimensional array \n",
    "array_data2 = [[1, 2, 3, 4], [5, 6, 7, 8]]\n",
    "array2 = array(array_data2)\n",
    "print(\"Array 2: \", array2)"
   ]
  },
  {
   "cell_type": "code",
   "execution_count": 4,
   "metadata": {},
   "outputs": [
    {
     "name": "stdout",
     "output_type": "stream",
     "text": [
      "Dimension of array2 is  2\n",
      "Shape of array2 is  (2, 4)\n"
     ]
    }
   ],
   "source": [
    "# Check the Dimension of the array \n",
    "print(\"Dimension of array2 is \",array2.ndim)\n",
    "\n",
    "# Check the Size of Array \n",
    "print(\"Shape of array2 is \",array2.shape)"
   ]
  },
  {
   "cell_type": "code",
   "execution_count": 5,
   "metadata": {},
   "outputs": [
    {
     "name": "stdout",
     "output_type": "stream",
     "text": [
      "Zero Array [[0. 0. 0. 0. 0. 0.]\n",
      " [0. 0. 0. 0. 0. 0.]\n",
      " [0. 0. 0. 0. 0. 0.]]\n"
     ]
    }
   ],
   "source": [
    "# Create and array of zeros \n",
    "Zero_Array = zeros((3, 6))\n",
    "print(\"Zero Array\",Zero_Array)"
   ]
  },
  {
   "cell_type": "code",
   "execution_count": 6,
   "metadata": {},
   "outputs": [
    {
     "name": "stdout",
     "output_type": "stream",
     "text": [
      "data type of Array1 is :  int32\n"
     ]
    }
   ],
   "source": [
    "# Check Data Type of Array \n",
    "array_data1 = [1,2,3,4]\n",
    "Array1 = array(array_data1)\n",
    "print(\"data type of Array1 is : \",Array1.dtype)"
   ]
  },
  {
   "cell_type": "code",
   "execution_count": 7,
   "metadata": {},
   "outputs": [
    {
     "name": "stdout",
     "output_type": "stream",
     "text": [
      "Original Array  [[1 2 3]\n",
      " [4 5 6]]\n",
      "Element wise sq of arr1 is :  [[ 1  4  9]\n",
      " [16 25 36]]\n",
      "Double array element wise [[ 2  4  6]\n",
      " [ 8 10 12]]\n"
     ]
    }
   ],
   "source": [
    "# Arrays and Scalars\n",
    "# ELement wise array multiplication \n",
    "arr1 = array([[1,2,3],[4,5,6]])\n",
    "arr2 = arr1*arr1 \n",
    "print(\"Original Array \",arr1)\n",
    "print(\"Element wise sq of arr1 is : \",arr2)\n",
    "arr3 = arr1*2\n",
    "print(\"Double array element wise\", arr3)"
   ]
  },
  {
   "cell_type": "code",
   "execution_count": 8,
   "metadata": {},
   "outputs": [
    {
     "name": "stdout",
     "output_type": "stream",
     "text": [
      "Arr1 before manipulation is : [0 1 2 3 4 5 6 7 8 9]\n",
      "Sub_Array before change is: [3 4]\n",
      "Sub Array after change : [56  4]\n",
      "Original Array is [ 0  1  2 56  4  5  6  7  8  9]\n",
      "Sub Array after new assign is :  66\n",
      "Main Array after new assign is :  [ 0  1  2 56  4  5  6  7  8  9]\n"
     ]
    }
   ],
   "source": [
    "# Indexing and slicing of arrays \n",
    "# Define Array of 10 elements \n",
    "Arr1 = array(arange(10))\n",
    "print(\"Arr1 before manipulation is :\", Arr1)\n",
    "\n",
    "\n",
    "# Choose Index pos 3 to 5 and create a sub array \n",
    "# Note the 5th Index position actually does not get selected \n",
    "# Note: Only elemenst upto the 5th position get selected \n",
    "Sub_Arr1 = Arr1[3:5]\n",
    "# Display elements of sub array \n",
    "print(\"Sub_Array before change is:\", Sub_Arr1)\n",
    "\n",
    "\n",
    "# Assign a fixed value to sub Array Index Pos 0 \n",
    "Sub_Arr1[0] = 56\n",
    "# Display elements of Sub_Arr1\n",
    "print(\"Sub Array after change :\", Sub_Arr1)\n",
    "\n",
    "\n",
    "\n",
    "# Display elements of original array \n",
    "# Note: change in sub Array caused change in main array \n",
    "print(\"Original Array is\",Arr1)\n",
    "\n",
    "\n",
    "\n",
    "# Assign a element to the entire Sub array \n",
    "Sub_Arr1 = 66\n",
    "# Display Sub Arry \n",
    "print(\"Sub Array after new assign is : \",Sub_Arr1)\n",
    "\n",
    "\n",
    "# Display main Array \n",
    "print(\"Main Array after new assign is : \", Arr1)\n"
   ]
  },
  {
   "cell_type": "code",
   "execution_count": 17,
   "metadata": {},
   "outputs": [
    {
     "name": "stdout",
     "output_type": "stream",
     "text": [
      "(7,)\n",
      "7\n",
      "Random Numbers:  [0 1 2 3 4 5 6]\n",
      "[0 1 2 3 4 5 8]\n",
      "[6 1 2 3 4 5 8]\n",
      "[6 7 2 3 4 5 8]\n",
      "[6 7 7 3 4 5 8]\n",
      "[6 7 7 4 4 5 8]\n",
      "[6 7 7 4 7 5 8]\n",
      "[6 7 7 4 7 7 8]\n",
      "Rand Vector [6 7 7 4 7 7 8]\n",
      "Matching Sub set of Rand Num is: [6 4]\n"
     ]
    }
   ],
   "source": [
    "# Boolean Indexing \n",
    "# Create an Array of names \n",
    "Arr_Names = array(['Bob', 'Joe', 'Will', 'Bob', 'Will', 'Joe', 'Joe'])\n",
    "\n",
    "\n",
    "# Get Array size\n",
    "Arrsize = Arr_Names.shape\n",
    "print(Arrsize)\n",
    "Len1 = Arrsize[0]\n",
    "print(Len1)\n",
    "\n",
    "\n",
    "# Create a  Vector of random numbers of the same length\n",
    "# Init a  Vector of size = Len1 \n",
    "Rand_Set = array(arange(Len1))\n",
    "\n",
    "print(\"Random Numbers: \", Rand_Set)\n",
    "\n",
    "# Populate Vector with Random nos from 1 to 10 \n",
    "for i in range(Len1):\n",
    "    Rand_Set[i-1] = random.uniform(1,10)\n",
    "    print(Rand_Set) # Important: Random number gets assigned first at -1 position and then from 0 t0 5\n",
    "    \n",
    "# Display Rand Vector\n",
    "print(\"Rand Vector\",Rand_Set)\n",
    "\n",
    "\n",
    "# Get Those Index positions for which name = Bob \n",
    "# Use the index set to choose a sub set of Random Numbers \n",
    "Match_name_rand = Rand_Set[Arr_Names == 'Bob']\n",
    "print(\"Matching Sub set of Rand Num is:\",Match_name_rand)"
   ]
  },
  {
   "cell_type": "code",
   "execution_count": 18,
   "metadata": {},
   "outputs": [
    {
     "name": "stdout",
     "output_type": "stream",
     "text": [
      "Original Array is  [[ 1  2  3  4]\n",
      " [ 5  6  7  8]\n",
      " [ 9 10 11 12]]\n",
      "Sliced Array is :  [ 9 10]\n"
     ]
    }
   ],
   "source": [
    "# Slicing multi dimensional Arrays \n",
    "# define a 3 by 4 array \n",
    "Array1 = array([[1,2,3,4],[5,6,7,8],[9,10,11,12]])\n",
    "print(\"Original Array is \", Array1)\n",
    "Array_Slice1 = Array1[2,:2]\n",
    "print(\"Sliced Array is : \",Array_Slice1)\n"
   ]
  },
  {
   "cell_type": "code",
   "execution_count": 19,
   "metadata": {},
   "outputs": [
    {
     "name": "stdout",
     "output_type": "stream",
     "text": [
      "Sqrt Root values: [0.         1.         1.41421356 1.73205081 2.         2.23606798\n",
      " 2.44948974 2.64575131 2.82842712 3.        ]\n"
     ]
    }
   ],
   "source": [
    "# Square Root \n",
    "Arr = arange(10)\n",
    "Sqrt_Arr = sqrt(Arr)\n",
    "print(\"Sqrt Root values:\", Sqrt_Arr )"
   ]
  },
  {
   "cell_type": "code",
   "execution_count": 20,
   "metadata": {},
   "outputs": [
    {
     "name": "stdout",
     "output_type": "stream",
     "text": [
      "X Array is : [ 0.24966614  0.63250033 -1.27648415 -0.09624331  1.01263393  0.76621834\n",
      " -0.59884419 -0.18475065 -1.08733268  0.62677776]\n",
      "Y Array is : [ 1.5236005   0.0134438  -0.39403322 -0.53101665 -1.39773342 -0.06435791\n",
      " -0.054242    0.33665157  0.23050571  0.34496952]\n",
      "The Max element wise is : [ 1.5236005   0.63250033 -0.39403322 -0.09624331  1.01263393  0.76621834\n",
      " -0.054242    0.33665157  0.23050571  0.62677776]\n"
     ]
    }
   ],
   "source": [
    "# Binary Function example \n",
    "# Create Two Arrays of 10 random numbers each \n",
    "x = random.randn(10)\n",
    "y = random.randn(10)\n",
    "# Print  both the arrays \n",
    "print(\"X Array is :\", x)\n",
    "print(\"Y Array is :\", y)\n",
    "# Get the Element wise max, comparing both arrays \n",
    "Max_XY = maximum(x,y)\n",
    "print(\"The Max element wise is :\", Max_XY)"
   ]
  },
  {
   "cell_type": "code",
   "execution_count": 21,
   "metadata": {},
   "outputs": [
    {
     "name": "stdout",
     "output_type": "stream",
     "text": [
      "Choice:  [1, 20, 3, 40, 5]\n"
     ]
    }
   ],
   "source": [
    " # Conditional logic as Array Operators\n",
    "# Define Boolean Array \n",
    "Bool_Arr = array([True,False,True,False,True])\n",
    "X_Arr = array([1,2,3,4,5])\n",
    "Y_Arr = array([10,20,30,40,50])\n",
    "\n",
    "Choice = [(X if Z else Y) for X,Y,Z in zip(X_Arr,Y_Arr,Bool_Arr)]\n",
    "print(\"Choice: \",Choice)"
   ]
  },
  {
   "cell_type": "code",
   "execution_count": 22,
   "metadata": {},
   "outputs": [
    {
     "name": "stdout",
     "output_type": "stream",
     "text": [
      "original  Array is :  [[ 0.02935829 -0.56404369 -0.26327927]\n",
      " [-0.35371242  0.78706348  0.68390539]\n",
      " [ 0.97929571  1.28436503  0.06593395]]\n",
      "Chg Array is :  [[ 2 -2 -2]\n",
      " [-2  2  2]\n",
      " [ 2  2  2]]\n"
     ]
    }
   ],
   "source": [
    "# The where clause in arrays \n",
    "# Create a 3x3 array of random numbers \n",
    "Arr3 = random.randn(3,3)\n",
    "print(\"original  Array is : \", Arr3)\n",
    "# Replace pos numbers with +2 and _ve nos with -2 \n",
    "Arr3_Chg = where(Arr3 > 0, 2, -2)\n",
    "# Print changed Array \n",
    "print(\"Chg Array is : \", Arr3_Chg)"
   ]
  },
  {
   "cell_type": "code",
   "execution_count": 23,
   "metadata": {},
   "outputs": [
    {
     "name": "stdout",
     "output_type": "stream",
     "text": [
      "Mean of Array is:  5.0\n"
     ]
    }
   ],
   "source": [
    "# Basic Statistical Functions\n",
    "Arr_Stat = array([[1,2,3],[4,5,6],[7,8,9]])\n",
    "# Mean\n",
    "Arr_Mean = mean(Arr_Stat) \n",
    "print(\"Mean of Array is: \", Arr_Mean)"
   ]
  },
  {
   "cell_type": "code",
   "execution_count": 24,
   "metadata": {},
   "outputs": [
    {
     "name": "stdout",
     "output_type": "stream",
     "text": [
      "Sum of Array is: 45\n"
     ]
    }
   ],
   "source": [
    "# Sum \n",
    "Arr_Sum = sum(Arr_Stat)\n",
    "print(\"Sum of Array is:\",Arr_Sum)"
   ]
  },
  {
   "cell_type": "code",
   "execution_count": 25,
   "metadata": {},
   "outputs": [
    {
     "name": "stdout",
     "output_type": "stream",
     "text": [
      "Col_Means = : [4. 5. 6.]\n"
     ]
    }
   ],
   "source": [
    "# Get Column means (0th dimension or axis )\n",
    "Arr_Mean_Cols = Arr_Stat.mean(0)\n",
    "print(\"Col_Means = :\", Arr_Mean_Cols)\n"
   ]
  },
  {
   "cell_type": "code",
   "execution_count": 26,
   "metadata": {},
   "outputs": [
    {
     "name": "stdout",
     "output_type": "stream",
     "text": [
      "Unsorted Array is  [10  2 34  5]\n",
      "Sorted Array is  [2, 5, 10, 34]\n"
     ]
    }
   ],
   "source": [
    "#   Sorting \n",
    "Arr4 = array([10,2,34,5])\n",
    "Arr4_Sorted = sorted(Arr4) \n",
    "print(\"Unsorted Array is \",Arr4)\n",
    "print(\"Sorted Array is \",Arr4_Sorted)"
   ]
  },
  {
   "cell_type": "code",
   "execution_count": 27,
   "metadata": {},
   "outputs": [
    {
     "name": "stdout",
     "output_type": "stream",
     "text": [
      "Unique Names are  ['Bob' 'Jeet' 'Jim' 'Joy' 'Kumar' 'Rajesh' 'Roy']\n"
     ]
    }
   ],
   "source": [
    "#  Unique  and other Array set operations \n",
    "# Create a Names Array \n",
    "Names_Arr = array([\"Jim\",\"Bob\",\"Roy\",\"Rajesh\",\"Roy\",\"Kumar\",\"Jeet\",\"Roy\",\"Joy\"])\n",
    "# Get Unique Names \n",
    "Names_Arr_Unq = unique(Names_Arr)\n",
    "print(\"Unique Names are \", Names_Arr_Unq)"
   ]
  },
  {
   "cell_type": "code",
   "execution_count": 28,
   "metadata": {},
   "outputs": [
    {
     "name": "stdout",
     "output_type": "stream",
     "text": [
      "[[-2.19059218 -0.63137662  1.08351212  0.50774797]\n",
      " [ 1.49064264  0.42160043  0.67414661  1.02056263]\n",
      " [-0.9353865   0.1946611   0.24642176  0.58661314]\n",
      " [-0.43785167 -0.79087459 -1.34054415  1.16025144]]\n"
     ]
    }
   ],
   "source": [
    "# Generate a 4 by 4  Array of random numbers following \n",
    "# Normal distribution \n",
    "Arr4by4 = random.normal(size=(4,4))\n",
    "print(Arr4by4)"
   ]
  },
  {
   "cell_type": "code",
   "execution_count": 29,
   "metadata": {},
   "outputs": [
    {
     "name": "stdout",
     "output_type": "stream",
     "text": [
      "2\n"
     ]
    }
   ],
   "source": [
    "array1 = [5,6,7,8] \n",
    "array_data = [[1, 2, 3, 4], array1] \n",
    "array2 = array_data\n",
    "print(len(array2))"
   ]
  },
  {
   "cell_type": "code",
   "execution_count": 31,
   "metadata": {},
   "outputs": [
    {
     "name": "stdout",
     "output_type": "stream",
     "text": [
      "[40 40 40]\n"
     ]
    }
   ],
   "source": [
    "import numpy as np\n",
    "arr1 = np.array([10,10,10])\n",
    "arr2 = arr1 + arr1\n",
    "arr3 = arr2*2\n",
    "print(arr3)"
   ]
  },
  {
   "cell_type": "code",
   "execution_count": 32,
   "metadata": {},
   "outputs": [
    {
     "name": "stdout",
     "output_type": "stream",
     "text": [
      "21\n"
     ]
    }
   ],
   "source": [
    "a = np.array([1,2,3,5,8])\n",
    "b = np.array([0,3,4,2,1])\n",
    "c = a + b\n",
    "c = c*a\n",
    "print (c[2])"
   ]
  },
  {
   "cell_type": "code",
   "execution_count": 33,
   "metadata": {},
   "outputs": [
    {
     "name": "stdout",
     "output_type": "stream",
     "text": [
      "5\n"
     ]
    }
   ],
   "source": [
    "a = np.array([[1,2,3],[0,1,4]])\n",
    "b = np.zeros((2,3), dtype=np.int16)\n",
    "c = np.ones((2,3), dtype=np.int16)\n",
    "d = a + b + c\n",
    "print (d[1,2])"
   ]
  },
  {
   "cell_type": "code",
   "execution_count": null,
   "metadata": {},
   "outputs": [],
   "source": []
  }
 ],
 "metadata": {
  "kernelspec": {
   "display_name": "Python 3",
   "language": "python",
   "name": "python3"
  },
  "language_info": {
   "codemirror_mode": {
    "name": "ipython",
    "version": 3
   },
   "file_extension": ".py",
   "mimetype": "text/x-python",
   "name": "python",
   "nbconvert_exporter": "python",
   "pygments_lexer": "ipython3",
   "version": "3.7.3"
  }
 },
 "nbformat": 4,
 "nbformat_minor": 2
}
