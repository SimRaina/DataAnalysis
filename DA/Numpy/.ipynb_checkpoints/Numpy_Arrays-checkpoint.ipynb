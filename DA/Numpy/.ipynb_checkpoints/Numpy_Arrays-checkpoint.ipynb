{
 "cells": [
  {
   "cell_type": "markdown",
   "metadata": {},
   "source": [
    "#  MODULE 4:  Numpy\n",
    "\n"
   ]
  },
  {
   "cell_type": "markdown",
   "metadata": {},
   "source": [
    "## Arrays"
   ]
  },
  {
   "cell_type": "code",
   "execution_count": 1,
   "metadata": {},
   "outputs": [
    {
     "name": "stdout",
     "output_type": "stream",
     "text": [
      "Array 1 :  [ 1.4  7.   8.  12.3]\n"
     ]
    }
   ],
   "source": [
    "from numpy import *\n",
    "# Single dimensional array \n",
    "array_data1 = [1.4, 7, 8, 12.3]\n",
    "array1 = array(array_data1)\n",
    "print(\"Array 1 : \",array1)"
   ]
  },
  {
   "cell_type": "code",
   "execution_count": 2,
   "metadata": {},
   "outputs": [
    {
     "name": "stdout",
     "output_type": "stream",
     "text": [
      "Array 2:  [[1 2 3 4]\n",
      " [5 6 7 8]]\n"
     ]
    }
   ],
   "source": [
    "# Multi dimensional array \n",
    "#\n",
    "array_data2 = [[1, 2, 3, 4], [5, 6, 7, 8]]\n",
    "array2 = array(array_data2)\n",
    "print(\"Array 2: \", array2)"
   ]
  },
  {
   "cell_type": "code",
   "execution_count": 3,
   "metadata": {},
   "outputs": [
    {
     "name": "stdout",
     "output_type": "stream",
     "text": [
      "Dimension of array2 is  2\n",
      "Shape of array2 is  (2, 4)\n"
     ]
    }
   ],
   "source": [
    "# Check the Dimension of the array \n",
    "print(\"Dimension of array2 is \",array2.ndim)\n",
    "\n",
    "# Check the Size of Array \n",
    "print(\"Shape of array2 is \",array2.shape)"
   ]
  },
  {
   "cell_type": "code",
   "execution_count": 4,
   "metadata": {},
   "outputs": [
    {
     "name": "stdout",
     "output_type": "stream",
     "text": [
      "Zero Array [[0. 0. 0. 0. 0. 0.]\n",
      " [0. 0. 0. 0. 0. 0.]\n",
      " [0. 0. 0. 0. 0. 0.]]\n"
     ]
    }
   ],
   "source": [
    "# Create and array of zeros \n",
    "Zero_Array = zeros((3, 6))\n",
    "print(\"Zero Array\",Zero_Array)\n"
   ]
  },
  {
   "cell_type": "code",
   "execution_count": 5,
   "metadata": {
    "scrolled": true
   },
   "outputs": [
    {
     "name": "stdout",
     "output_type": "stream",
     "text": [
      "data type of Array1 is :  int32\n"
     ]
    }
   ],
   "source": [
    "# Check Data Type of Array \n",
    "array_data1 = [1,2,3,4]\n",
    "Array1 = array(array_data1)\n",
    "print(\"data type of Array1 is : \",Array1.dtype)"
   ]
  },
  {
   "cell_type": "markdown",
   "metadata": {},
   "source": [
    "\n",
    "### Arrays and Scalars \n",
    "\n",
    "### Notes:1)  Operations between Arrays of same size happens element wise \n",
    "### Notes:2)  Operations with Arrays and Scalars will propagate to each element \n"
   ]
  },
  {
   "cell_type": "code",
   "execution_count": 6,
   "metadata": {},
   "outputs": [
    {
     "name": "stdout",
     "output_type": "stream",
     "text": [
      "Original Array  [[1 2 3]\n",
      " [4 5 6]]\n",
      "Element wise sq of arr1 is :  [[ 1  4  9]\n",
      " [16 25 36]]\n",
      "Double array element wise [[ 2  4  6]\n",
      " [ 8 10 12]]\n"
     ]
    }
   ],
   "source": [
    "#--------------------\n",
    "# ELement wise array multiplication \n",
    "#--------------------\n",
    "arr1 = array([[1,2,3],[4,5,6]])\n",
    "arr2 = arr1*arr1 \n",
    "print(\"Original Array \",arr1)\n",
    "print(\"Element wise sq of arr1 is : \",arr2)\n",
    "arr3 = arr1*2\n",
    "print(\"Double array element wise\", arr3)"
   ]
  },
  {
   "cell_type": "code",
   "execution_count": 7,
   "metadata": {},
   "outputs": [
    {
     "name": "stdout",
     "output_type": "stream",
     "text": [
      "Arr1 before manipulation is : [0 1 2 3 4 5 6 7 8 9]\n",
      "Sub_Array before change is: [3 4]\n",
      "Sub Array after change : [56  4]\n",
      "Original Array is [ 0  1  2 56  4  5  6  7  8  9]\n",
      "Sub Array after new assign is :  66\n",
      "Main Array after new assign is :  [ 0  1  2 56  4  5  6  7  8  9]\n"
     ]
    }
   ],
   "source": [
    "#--------------------------------------------\n",
    "# Indexing and slicing of arrays \n",
    "#--------------------------------------------\n",
    "# Define Array of 10 elements \n",
    "Arr1 = array(arange(10))\n",
    "print(\"Arr1 before manipulation is :\",Arr1)\n",
    "\n",
    "\n",
    "# Choose Index pos 3 to 5 and create a sub array \n",
    "# Note the 5th Index position actually does not get selected \n",
    "# Note: Only elemenst upto the 5th position get selected \n",
    "Sub_Arr1 = Arr1[3:5]\n",
    "# Display elements of sub array \n",
    "print(\"Sub_Array before change is:\",Sub_Arr1)\n",
    "\n",
    "\n",
    "# Assign a fixed value to sub Array Index Pos 0 \n",
    "Sub_Arr1[0] = 56\n",
    "# Display elements of Sub_Arr1\n",
    "print(\"Sub Array after change :\",Sub_Arr1)\n",
    "\n",
    "\n",
    "\n",
    "# Display elements of original array \n",
    "# Note: change in sub Array caused change in main array \n",
    "print(\"Original Array is\",Arr1)\n",
    "\n",
    "\n",
    "\n",
    "# Assign a element to the entire Sub array \n",
    "Sub_Arr1 = 66\n",
    "# Display Sub Arry \n",
    "print(\"Sub Array after new assign is : \",Sub_Arr1)\n",
    "\n",
    "\n",
    "# Display main Array \n",
    "print(\"Main Array after new assign is : \", Arr1)\n"
   ]
  },
  {
   "cell_type": "code",
   "execution_count": 8,
   "metadata": {},
   "outputs": [
    {
     "name": "stdout",
     "output_type": "stream",
     "text": [
      "Rand Vector [3 4 6 7 6 5 8]\n",
      "Matching Sub set of Rand Num is: [3 7]\n"
     ]
    }
   ],
   "source": [
    "# Boolean Indexing \n",
    "#-------------------------------\n",
    "# Create an Array of names \n",
    "Arr_Names = array(['Bob', 'Joe', 'Will', 'Bob', 'Will', 'Joe', 'Joe'])\n",
    "\n",
    "\n",
    "# Get Array size\n",
    "Arrsize = Arr_Names.shape\n",
    "Len1 = Arrsize[0]\n",
    "\n",
    "\n",
    "# Create a  Vector of random numbers of the same length\n",
    "# Init a  Vector of size = Len1 \n",
    "Rand_Set = array(arange(Len1))\n",
    "\n",
    "\n",
    "# Populate Vector with Random nos from 1 to 10 \n",
    "for i in range(Len1):\n",
    "    Rand_Set[i-1] = random.uniform(1,10)\n",
    "    \n",
    "# Display Rand Vector\n",
    "print(\"Rand Vector\",Rand_Set)\n",
    "\n",
    "\n",
    "# Get Those Index positions for which name = Bob \n",
    "# Use the index set to choose a sub set of Random Numbers \n",
    "Match_name_rand = Rand_Set[Arr_Names == 'Bob']\n",
    "print(\"Matching Sub set of Rand Num is:\",Match_name_rand)"
   ]
  },
  {
   "cell_type": "markdown",
   "metadata": {},
   "source": [
    "### Array  Operations "
   ]
  },
  {
   "cell_type": "code",
   "execution_count": 9,
   "metadata": {},
   "outputs": [
    {
     "name": "stdout",
     "output_type": "stream",
     "text": [
      "Original Array is  [[ 1  2  3  4]\n",
      " [ 5  6  7  8]\n",
      " [ 9 10 11 12]]\n",
      "Sliced Array is :  [ 9 10]\n"
     ]
    }
   ],
   "source": [
    "# Slicing multi dimensional Arrays \n",
    "# define a 3 by 4 array \n",
    "Array1 = array([[1,2,3,4],[5,6,7,8],[9,10,11,12]])\n",
    "print(\"Original Array is \", Array1)\n",
    "Array_Slice1 = Array1[2,:2]\n",
    "print(\"Sliced Array is : \",Array_Slice1)\n"
   ]
  },
  {
   "cell_type": "code",
   "execution_count": 10,
   "metadata": {},
   "outputs": [
    {
     "name": "stdout",
     "output_type": "stream",
     "text": [
      "Sqrt Root values: [0.         1.         1.41421356 1.73205081 2.         2.23606798\n",
      " 2.44948974 2.64575131 2.82842712 3.        ]\n"
     ]
    }
   ],
   "source": [
    "#-------------\n",
    "# Square Root \n",
    "#-------------\n",
    "from numpy import *\n",
    "Arr = arange(10)\n",
    "Sqrt_Arr = sqrt(Arr)\n",
    "print(\"Sqrt Root values:\", Sqrt_Arr )"
   ]
  },
  {
   "cell_type": "code",
   "execution_count": 11,
   "metadata": {},
   "outputs": [
    {
     "name": "stdout",
     "output_type": "stream",
     "text": [
      "X Array is : [ 6.19179520e-02 -2.84139155e-01  9.50168851e-01  2.11356791e-01\n",
      "  1.18554697e+00  1.19246862e+00  1.06805256e+00  6.49218602e-01\n",
      "  5.72294038e-04  7.37520112e-01]\n",
      "Y Array is : [-1.58191504 -0.04477656 -1.51641345 -0.93735275  0.2781693  -1.31351554\n",
      " -0.16444015  0.30678866  0.82370446 -0.28081486]\n",
      "The Max element wise is : [ 0.06191795 -0.04477656  0.95016885  0.21135679  1.18554697  1.19246862\n",
      "  1.06805256  0.6492186   0.82370446  0.73752011]\n"
     ]
    }
   ],
   "source": [
    "#--------------------------\n",
    "# Binary Function example \n",
    "#---------------------------\n",
    "\n",
    "# Create Two Arrays of 10 random numbers each \n",
    "x = random.randn(10)\n",
    "y = random.randn(10)\n",
    "# Print  both the arrays \n",
    "print(\"X Array is :\", x)\n",
    "print(\"Y Array is :\", y)\n",
    "# Get the Element wise max, comparing both arrays \n",
    "Max_XY = maximum(x,y)\n",
    "print(\"The Max element wise is :\", Max_XY)"
   ]
  },
  {
   "cell_type": "code",
   "execution_count": 12,
   "metadata": {},
   "outputs": [
    {
     "name": "stdout",
     "output_type": "stream",
     "text": [
      "Choice:  [1, 20, 3, 40, 5]\n"
     ]
    }
   ],
   "source": [
    " # Conditional logic as Array Operators\n",
    "# ---\n",
    "# Define Boolean Array \n",
    "Bool_Arr = array([True,False,True,False,True])\n",
    "X_Arr = array([1,2,3,4,5])\n",
    "Y_Arr = array([10,20,30,40,50])\n",
    "\n",
    "Choice = [(X if Z else Y) for X,Y,Z in zip(X_Arr,Y_Arr,Bool_Arr)]\n",
    "print(\"Choice: \",Choice)"
   ]
  },
  {
   "cell_type": "code",
   "execution_count": 14,
   "metadata": {},
   "outputs": [
    {
     "name": "stdout",
     "output_type": "stream",
     "text": [
      "original  Array is :  [[-0.31699015 -0.1032431  -0.26698693]\n",
      " [ 0.69960329  1.25745138  1.46572299]\n",
      " [ 0.64998609  0.4657951  -0.02472302]]\n",
      "Chg Array is :  [[-2 -2 -2]\n",
      " [ 2  2  2]\n",
      " [ 2  2 -2]]\n"
     ]
    }
   ],
   "source": [
    "#---------------------------------\n",
    "# The where clause in arrays \n",
    "#---------------------------------\n",
    "# Create a 3x3 array of random numbers \n",
    "Arr3 = random.randn(3,3)\n",
    "print(\"original  Array is : \", Arr3)\n",
    "# Replace pos numbers with +2 and _ve nos with -2 \n",
    "Arr3_Chg = where(Arr3 > 0, 2, -2)\n",
    "# Print changed Array \n",
    "print(\"Chg Array is : \", Arr3_Chg)"
   ]
  },
  {
   "cell_type": "markdown",
   "metadata": {},
   "source": [
    "###  Basic Statistical functions "
   ]
  },
  {
   "cell_type": "code",
   "execution_count": 15,
   "metadata": {},
   "outputs": [
    {
     "name": "stdout",
     "output_type": "stream",
     "text": [
      "Mean of Array is:  5.0\n"
     ]
    }
   ],
   "source": [
    "Arr_Stat = array([[1,2,3],[4,5,6],[7,8,9]])\n",
    "# Mean\n",
    "Arr_Mean = mean(Arr_Stat) \n",
    "print(\"Mean of Array is: \",Arr_Mean)"
   ]
  },
  {
   "cell_type": "code",
   "execution_count": 16,
   "metadata": {},
   "outputs": [
    {
     "name": "stdout",
     "output_type": "stream",
     "text": [
      "Sum of Array is: 45\n"
     ]
    }
   ],
   "source": [
    "# Sum \n",
    "Arr_Sum = sum(Arr_Stat)\n",
    "print(\"Sum of Array is:\",Arr_Sum)"
   ]
  },
  {
   "cell_type": "code",
   "execution_count": 17,
   "metadata": {},
   "outputs": [
    {
     "name": "stdout",
     "output_type": "stream",
     "text": [
      "Col_Means = : [4. 5. 6.]\n"
     ]
    }
   ],
   "source": [
    "\n",
    "# Get Column means (0th dimension or axis )\n",
    "Arr_Mean_Cols = Arr_Stat.mean(0)\n",
    "print(\"Col_Means = :\", Arr_Mean_Cols)\n"
   ]
  },
  {
   "cell_type": "markdown",
   "metadata": {},
   "source": [
    "### Misc  Array operations "
   ]
  },
  {
   "cell_type": "code",
   "execution_count": 18,
   "metadata": {},
   "outputs": [
    {
     "name": "stdout",
     "output_type": "stream",
     "text": [
      "Unsorted Array is  [10  2 34  5]\n",
      "Sorted Array is  [2, 5, 10, 34]\n"
     ]
    }
   ],
   "source": [
    "#--------------------------------------------\n",
    "#   Sorting \n",
    "#--------------------------------------------\n",
    "Arr4 = array([10,2,34,5])\n",
    "Arr4_Sorted = sorted(Arr4) \n",
    "print(\"Unsorted Array is \",Arr4)\n",
    "print(\"Sorted Array is \",Arr4_Sorted)\n"
   ]
  },
  {
   "cell_type": "code",
   "execution_count": 19,
   "metadata": {},
   "outputs": [
    {
     "name": "stdout",
     "output_type": "stream",
     "text": [
      "Unique Names are  ['Bob' 'Jeet' 'Jim' 'Joy' 'Kumar' 'Rajesh' 'Roy']\n"
     ]
    }
   ],
   "source": [
    "#-------------------------------------------------\n",
    "#  Unique  and other Array set operations \n",
    "#-------------------------------------------------\n",
    "# Create a Names Array \n",
    "Names_Arr = array([\"Jim\",\"Bob\",\"Roy\",\"Rajesh\",\"Roy\",\"Kumar\",\"Jeet\",\"Roy\",\"Joy\"])\n",
    "# Get Unique Names \n",
    "Names_Arr_Unq = unique(Names_Arr)\n",
    "print(\"Unique Names are \",Names_Arr_Unq)"
   ]
  },
  {
   "cell_type": "code",
   "execution_count": 21,
   "metadata": {},
   "outputs": [
    {
     "name": "stdout",
     "output_type": "stream",
     "text": [
      "[[ 2.00743878 -1.10493727  0.89852994 -0.34743059]\n",
      " [-0.69714028  1.33374861  0.63388242  0.50214727]\n",
      " [-1.98253714  0.25912687 -1.30385276 -0.37759695]\n",
      " [-0.78936806  0.78750003  0.46444563 -0.84665695]]\n"
     ]
    }
   ],
   "source": [
    "# Generate a 4 by 4  Array of random numbers following \n",
    "# Normal distribution \n",
    "#------------------------------------------------------\n",
    "Arr4by4 = random.normal(size=(4,4))\n",
    "print(Arr4by4)"
   ]
  },
  {
   "cell_type": "markdown",
   "metadata": {},
   "source": [
    "### End of Module 4 - Numpy"
   ]
  }
 ],
 "metadata": {
  "kernelspec": {
   "display_name": "Python 3",
   "language": "python",
   "name": "python3"
  },
  "language_info": {
   "codemirror_mode": {
    "name": "ipython",
    "version": 3
   },
   "file_extension": ".py",
   "mimetype": "text/x-python",
   "name": "python",
   "nbconvert_exporter": "python",
   "pygments_lexer": "ipython3",
   "version": "3.7.3"
  }
 },
 "nbformat": 4,
 "nbformat_minor": 2
}
