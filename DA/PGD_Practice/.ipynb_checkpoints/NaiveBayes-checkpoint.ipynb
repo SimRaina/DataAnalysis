{
 "cells": [
  {
   "cell_type": "code",
   "execution_count": 1,
   "metadata": {},
   "outputs": [
    {
     "name": "stdout",
     "output_type": "stream",
     "text": [
      "                       message     class\n",
      "0                 I like movie  positive\n",
      "1                 I hate movie  negative\n",
      "2  A great movie. I like movie  positive\n",
      "3                  Poor acting  negative\n",
      "4                 Great acting  positive\n"
     ]
    }
   ],
   "source": [
    "import pandas as pd\n",
    "\n",
    "My_dataset = pd.read_csv('movie.csv')\n",
    "print(My_dataset)"
   ]
  },
  {
   "cell_type": "code",
   "execution_count": 2,
   "metadata": {},
   "outputs": [
    {
     "name": "stdout",
     "output_type": "stream",
     "text": [
      "                       message  class\n",
      "0                 I like movie      1\n",
      "1                 I hate movie      0\n",
      "2  A great movie. I like movie      1\n",
      "3                  Poor acting      0\n",
      "4                 Great acting      1\n",
      "['I like movie', 'I hate movie', 'A great movie. I like movie', 'Poor acting', 'Great acting']\n"
     ]
    }
   ],
   "source": [
    "# performing labelencoding for class feature\n",
    "from sklearn.preprocessing import LabelEncoder\n",
    "labelencoder = LabelEncoder()\n",
    "My_dataset['class'] = labelencoder.fit_transform(My_dataset['class'])\n",
    "\n",
    "# creating document\n",
    "My_document = list()\n",
    "for i in My_dataset['message'][:]:\n",
    "    My_document.append(i)\n",
    "    \n",
    "print(My_dataset)\n",
    "print(My_document)"
   ]
  },
  {
   "cell_type": "code",
   "execution_count": 4,
   "metadata": {},
   "outputs": [
    {
     "name": "stdout",
     "output_type": "stream",
     "text": [
      "['acting', 'great', 'hate', 'like', 'movie', 'poor']\n"
     ]
    }
   ],
   "source": [
    "#CountVectorizer will convert all the text into lowercase, will remove all the punctuations and all the stopwords.\n",
    "\n",
    "from sklearn.feature_extraction.text import CountVectorizer\n",
    "count_vector =CountVectorizer()\n",
    "\n",
    "# CountVectorizer on the documents\n",
    "count_vector.fit(My_document)\n",
    "count_vector.get_feature_names()\n",
    "\n",
    "\n",
    "document_freq = count_vector.transform(My_document).toarray()\n",
    "\n",
    "print(count_vector.get_feature_names())\n",
    "\n",
    "# creating frequency matrix\n",
    "\n",
    "frequency_ofwords = pd.DataFrame(document_freq, columns= count_vector.get_feature_names() )\n",
    "\n"
   ]
  },
  {
   "cell_type": "code",
   "execution_count": 5,
   "metadata": {},
   "outputs": [],
   "source": [
    "from sklearn.naive_bayes import MultinomialNB   # imports Naive Bayes classifier\n",
    "from sklearn import metrics\n",
    "from sklearn.model_selection import train_test_split\n",
    "\n",
    "data_train, data_test, datatarget_train, datatarget_test = train_test_split(frequency_ofwords, My_dataset['class'], test_size=0.3)"
   ]
  },
  {
   "cell_type": "code",
   "execution_count": 6,
   "metadata": {},
   "outputs": [
    {
     "data": {
      "text/plain": [
       "MultinomialNB(alpha=1.0, class_prior=None, fit_prior=True)"
      ]
     },
     "execution_count": 6,
     "metadata": {},
     "output_type": "execute_result"
    }
   ],
   "source": [
    "naive_bayes = MultinomialNB()\n",
    "naive_bayes.fit(data_train, datatarget_train)"
   ]
  },
  {
   "cell_type": "code",
   "execution_count": 7,
   "metadata": {},
   "outputs": [],
   "source": [
    "predictions = naive_bayes.predict(data_test)"
   ]
  },
  {
   "cell_type": "code",
   "execution_count": 8,
   "metadata": {},
   "outputs": [
    {
     "name": "stdout",
     "output_type": "stream",
     "text": [
      "Accuracy: 50.0 %\n",
      "---------------\n",
      "Confusion matrix\n",
      "---------------\n",
      "[[0 1]\n",
      " [0 1]]\n"
     ]
    }
   ],
   "source": [
    "# Computing Model Accuracy\n",
    "\n",
    "print(\"Accuracy:\",round(metrics.accuracy_score(datatarget_test, predictions),2) * 100, \"%\")\n",
    "\n",
    "print (\"---------------\")\n",
    "\n",
    "# Printing confusion matrix\n",
    "\n",
    "print (\"Confusion matrix\")\n",
    "\n",
    "print (\"---------------\")\n",
    "\n",
    "print(metrics.confusion_matrix(datatarget_test, predictions))\n",
    "\n"
   ]
  },
  {
   "cell_type": "code",
   "execution_count": null,
   "metadata": {},
   "outputs": [],
   "source": []
  }
 ],
 "metadata": {
  "kernelspec": {
   "display_name": "Python 3",
   "language": "python",
   "name": "python3"
  },
  "language_info": {
   "codemirror_mode": {
    "name": "ipython",
    "version": 3
   },
   "file_extension": ".py",
   "mimetype": "text/x-python",
   "name": "python",
   "nbconvert_exporter": "python",
   "pygments_lexer": "ipython3",
   "version": "3.7.3"
  }
 },
 "nbformat": 4,
 "nbformat_minor": 2
}
