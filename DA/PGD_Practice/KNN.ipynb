{
 "cells": [
  {
   "cell_type": "code",
   "execution_count": 1,
   "metadata": {},
   "outputs": [],
   "source": [
    "import pandas as pd\n",
    "from sklearn import datasets # imports built in data sets supported in scikit learn \n",
    "from sklearn.neighbors import KNeighborsClassifier   # imports KNN classifier\n",
    "from sklearn import metrics\n",
    "from sklearn.model_selection import train_test_split # using scikit learn for hold-out"
   ]
  },
  {
   "cell_type": "code",
   "execution_count": 2,
   "metadata": {},
   "outputs": [],
   "source": [
    "# Loading load_wine() data set \n",
    "\n",
    "dataset_wine = datasets.load_wine()"
   ]
  },
  {
   "cell_type": "code",
   "execution_count": 3,
   "metadata": {},
   "outputs": [],
   "source": [
    "# Creating hold-out enviornment\n",
    "\n",
    "winedata_train, winedata_test, winetarget_train, winetarget_test = train_test_split(dataset_wine.data, dataset_wine.target, test_size=0.3)"
   ]
  },
  {
   "cell_type": "code",
   "execution_count": 4,
   "metadata": {},
   "outputs": [],
   "source": [
    "#Create a KNN Classifier. The KNeighborsClassifier function takes value of k.\n",
    "\n",
    "KNNnmodel_1 = KNeighborsClassifier(n_neighbors = 4)  # value of K entered  is 4. \n",
    "\n",
    "#Train the model using the training sets\n",
    "\n",
    "KNNfitted_1 = KNNnmodel_1.fit(winedata_train, winetarget_train)"
   ]
  },
  {
   "cell_type": "code",
   "execution_count": 5,
   "metadata": {},
   "outputs": [],
   "source": [
    "\n",
    "#Predict the response on the test data set\n",
    "\n",
    "KNN_predictions_1 = KNNfitted_1.predict((winedata_test))"
   ]
  },
  {
   "cell_type": "code",
   "execution_count": 6,
   "metadata": {},
   "outputs": [
    {
     "name": "stdout",
     "output_type": "stream",
     "text": [
      "Accuracy: 56.00000000000001 %\n",
      "---------------\n",
      "Confusion matrix\n",
      "---------------\n",
      "[[17  3  1]\n",
      " [ 1 11  3]\n",
      " [ 2 14  2]]\n",
      "---------------\n",
      "Classification report               precision    recall  f1-score   support\n",
      "\n",
      "     class 0       0.85      0.81      0.83        21\n",
      "     class 1       0.39      0.73      0.51        15\n",
      "     class 2       0.33      0.11      0.17        18\n",
      "\n",
      "   micro avg       0.56      0.56      0.56        54\n",
      "   macro avg       0.53      0.55      0.50        54\n",
      "weighted avg       0.55      0.56      0.52        54\n",
      "\n"
     ]
    }
   ],
   "source": [
    "# Computing Model Accuracy\n",
    "\n",
    "print(\"Accuracy:\",round(metrics.accuracy_score(winetarget_test, KNN_predictions_1),2) * 100, \"%\")\n",
    "\n",
    "print (\"---------------\")\n",
    "\n",
    "# Printing confusion matrix\n",
    "\n",
    "print (\"Confusion matrix\")\n",
    "\n",
    "print (\"---------------\")\n",
    "\n",
    "print(metrics.confusion_matrix(winetarget_test, KNN_predictions_1))\n",
    "\n",
    "# Model detailed classification report\n",
    "target_names = ['class 0', 'class 1', 'class 2']\n",
    "\n",
    "\n",
    "print (\"---------------\")\n",
    "\n",
    "print(\"Classification report\", metrics.classification_report(winetarget_test, KNN_predictions_1,target_names =target_names))"
   ]
  },
  {
   "cell_type": "code",
   "execution_count": null,
   "metadata": {},
   "outputs": [],
   "source": []
  }
 ],
 "metadata": {
  "kernelspec": {
   "display_name": "Python 3",
   "language": "python",
   "name": "python3"
  },
  "language_info": {
   "codemirror_mode": {
    "name": "ipython",
    "version": 3
   },
   "file_extension": ".py",
   "mimetype": "text/x-python",
   "name": "python",
   "nbconvert_exporter": "python",
   "pygments_lexer": "ipython3",
   "version": "3.7.3"
  }
 },
 "nbformat": 4,
 "nbformat_minor": 2
}
