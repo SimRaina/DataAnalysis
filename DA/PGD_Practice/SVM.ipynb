{
 "cells": [
  {
   "cell_type": "code",
   "execution_count": 1,
   "metadata": {},
   "outputs": [],
   "source": [
    "import pandas as pd\n",
    "from sklearn import datasets\n",
    "from sklearn import svm\n",
    "from sklearn import metrics\n",
    "from sklearn.model_selection import train_test_split"
   ]
  },
  {
   "cell_type": "code",
   "execution_count": 2,
   "metadata": {},
   "outputs": [],
   "source": [
    "dataset_wine = datasets.load_wine()"
   ]
  },
  {
   "cell_type": "code",
   "execution_count": 3,
   "metadata": {},
   "outputs": [],
   "source": [
    "winedata_train, winedata_test, winetarget_train, winetarget_test = train_test_split(dataset_wine.data, dataset_wine.target, test_size=0.3)"
   ]
  },
  {
   "cell_type": "code",
   "execution_count": 5,
   "metadata": {},
   "outputs": [
    {
     "name": "stderr",
     "output_type": "stream",
     "text": [
      "C:\\Users\\simra\\Anaconda3\\lib\\site-packages\\sklearn\\svm\\base.py:196: FutureWarning: The default value of gamma will change from 'auto' to 'scale' in version 0.22 to account better for unscaled features. Set gamma explicitly to 'auto' or 'scale' to avoid this warning.\n",
      "  \"avoid this warning.\", FutureWarning)\n"
     ]
    }
   ],
   "source": [
    "#Create a svm Classifier. The various kernel supported in scikit learn are linear, poly and rbf.\n",
    "\n",
    "SVMmodel_1 = svm.SVC(kernel='rbf') # rbf Kernel\n",
    "\n",
    "#Train the model using the training sets\n",
    "\n",
    "SVMfitted_1 = SVMmodel_1.fit(winedata_train, winetarget_train)"
   ]
  },
  {
   "cell_type": "code",
   "execution_count": 6,
   "metadata": {},
   "outputs": [],
   "source": [
    "#Predict the response on the test data set\n",
    "\n",
    "SVM_predictions_1 = SVMfitted_1.predict((winedata_test))"
   ]
  },
  {
   "cell_type": "code",
   "execution_count": 7,
   "metadata": {},
   "outputs": [
    {
     "name": "stdout",
     "output_type": "stream",
     "text": [
      "Accuracy: 30.0 %\n",
      "---------------\n",
      "Confusion matrix\n",
      "---------------\n",
      "[[ 0 18  0]\n",
      " [ 0 16  0]\n",
      " [ 0 20  0]]\n",
      "---------------\n",
      "Classification report               precision    recall  f1-score   support\n",
      "\n",
      "     class 0       0.00      0.00      0.00        18\n",
      "     class 1       0.30      1.00      0.46        16\n",
      "     class 2       0.00      0.00      0.00        20\n",
      "\n",
      "   micro avg       0.30      0.30      0.30        54\n",
      "   macro avg       0.10      0.33      0.15        54\n",
      "weighted avg       0.09      0.30      0.14        54\n",
      "\n"
     ]
    },
    {
     "name": "stderr",
     "output_type": "stream",
     "text": [
      "C:\\Users\\simra\\Anaconda3\\lib\\site-packages\\sklearn\\metrics\\classification.py:1143: UndefinedMetricWarning: Precision and F-score are ill-defined and being set to 0.0 in labels with no predicted samples.\n",
      "  'precision', 'predicted', average, warn_for)\n"
     ]
    }
   ],
   "source": [
    "# Computing Model Accuracy\n",
    "\n",
    "print(\"Accuracy:\",round(metrics.accuracy_score(winetarget_test, SVM_predictions_1),2) * 100, \"%\")\n",
    "\n",
    "print (\"---------------\")\n",
    "\n",
    "# Printing confusion matrix\n",
    "\n",
    "print (\"Confusion matrix\")\n",
    "\n",
    "print (\"---------------\")\n",
    "\n",
    "print(metrics.confusion_matrix(winetarget_test, SVM_predictions_1))\n",
    "\n",
    "# Model detailed classification report\n",
    "target_names = ['class 0', 'class 1', 'class 2']\n",
    "\n",
    "\n",
    "print (\"---------------\")\n",
    "\n",
    "print(\"Classification report\", metrics.classification_report(winetarget_test, SVM_predictions_1,target_names =target_names))"
   ]
  },
  {
   "cell_type": "code",
   "execution_count": null,
   "metadata": {},
   "outputs": [],
   "source": []
  }
 ],
 "metadata": {
  "kernelspec": {
   "display_name": "Python 3",
   "language": "python",
   "name": "python3"
  },
  "language_info": {
   "codemirror_mode": {
    "name": "ipython",
    "version": 3
   },
   "file_extension": ".py",
   "mimetype": "text/x-python",
   "name": "python",
   "nbconvert_exporter": "python",
   "pygments_lexer": "ipython3",
   "version": "3.7.3"
  }
 },
 "nbformat": 4,
 "nbformat_minor": 2
}
