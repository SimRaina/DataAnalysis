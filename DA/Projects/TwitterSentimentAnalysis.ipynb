{
 "cells": [
  {
   "cell_type": "code",
   "execution_count": 3,
   "metadata": {},
   "outputs": [],
   "source": [
    "import tweepy\n",
    "from textblob import TextBlob"
   ]
  },
  {
   "cell_type": "code",
   "execution_count": 4,
   "metadata": {},
   "outputs": [],
   "source": [
    "consumer_key='xxxx'"
   ]
  },
  {
   "cell_type": "code",
   "execution_count": 5,
   "metadata": {},
   "outputs": [],
   "source": [
    "consumer_secret='xxxx'"
   ]
  },
  {
   "cell_type": "code",
   "execution_count": 6,
   "metadata": {},
   "outputs": [],
   "source": [
    "access_token='xxxx'"
   ]
  },
  {
   "cell_type": "code",
   "execution_count": 7,
   "metadata": {},
   "outputs": [],
   "source": [
    "access_token_secret='xxxx'"
   ]
  },
  {
   "cell_type": "code",
   "execution_count": 8,
   "metadata": {},
   "outputs": [],
   "source": [
    "auth = tweepy.OAuthHandler(consumer_key, consumer_secret)"
   ]
  },
  {
   "cell_type": "code",
   "execution_count": 9,
   "metadata": {},
   "outputs": [],
   "source": [
    "auth.set_access_token(access_token, access_token_secret)"
   ]
  },
  {
   "cell_type": "code",
   "execution_count": 10,
   "metadata": {},
   "outputs": [],
   "source": [
    "api=tweepy.API(auth)"
   ]
  },
  {
   "cell_type": "code",
   "execution_count": 12,
   "metadata": {},
   "outputs": [
    {
     "ename": "TweepError",
     "evalue": "[{'code': 89, 'message': 'Invalid or expired token.'}]",
     "output_type": "error",
     "traceback": [
      "\u001b[1;31m---------------------------------------------------------------------------\u001b[0m",
      "\u001b[1;31mTweepError\u001b[0m                                Traceback (most recent call last)",
      "\u001b[1;32m<ipython-input-12-b789500a0db2>\u001b[0m in \u001b[0;36m<module>\u001b[1;34m\u001b[0m\n\u001b[1;32m----> 1\u001b[1;33m \u001b[0mpublic_tweets\u001b[0m\u001b[1;33m=\u001b[0m\u001b[0mapi\u001b[0m\u001b[1;33m.\u001b[0m\u001b[0msearch\u001b[0m\u001b[1;33m(\u001b[0m\u001b[1;34m'Tharoor'\u001b[0m\u001b[1;33m)\u001b[0m\u001b[1;33m\u001b[0m\u001b[1;33m\u001b[0m\u001b[0m\n\u001b[0m",
      "\u001b[1;32m~\\Anaconda3\\lib\\site-packages\\tweepy\\binder.py\u001b[0m in \u001b[0;36m_call\u001b[1;34m(*args, **kwargs)\u001b[0m\n\u001b[0;32m    250\u001b[0m                 \u001b[1;32mreturn\u001b[0m \u001b[0mmethod\u001b[0m\u001b[1;33m\u001b[0m\u001b[1;33m\u001b[0m\u001b[0m\n\u001b[0;32m    251\u001b[0m             \u001b[1;32melse\u001b[0m\u001b[1;33m:\u001b[0m\u001b[1;33m\u001b[0m\u001b[1;33m\u001b[0m\u001b[0m\n\u001b[1;32m--> 252\u001b[1;33m                 \u001b[1;32mreturn\u001b[0m \u001b[0mmethod\u001b[0m\u001b[1;33m.\u001b[0m\u001b[0mexecute\u001b[0m\u001b[1;33m(\u001b[0m\u001b[1;33m)\u001b[0m\u001b[1;33m\u001b[0m\u001b[1;33m\u001b[0m\u001b[0m\n\u001b[0m\u001b[0;32m    253\u001b[0m         \u001b[1;32mfinally\u001b[0m\u001b[1;33m:\u001b[0m\u001b[1;33m\u001b[0m\u001b[1;33m\u001b[0m\u001b[0m\n\u001b[0;32m    254\u001b[0m             \u001b[0mmethod\u001b[0m\u001b[1;33m.\u001b[0m\u001b[0msession\u001b[0m\u001b[1;33m.\u001b[0m\u001b[0mclose\u001b[0m\u001b[1;33m(\u001b[0m\u001b[1;33m)\u001b[0m\u001b[1;33m\u001b[0m\u001b[1;33m\u001b[0m\u001b[0m\n",
      "\u001b[1;32m~\\Anaconda3\\lib\\site-packages\\tweepy\\binder.py\u001b[0m in \u001b[0;36mexecute\u001b[1;34m(self)\u001b[0m\n\u001b[0;32m    232\u001b[0m                     \u001b[1;32mraise\u001b[0m \u001b[0mRateLimitError\u001b[0m\u001b[1;33m(\u001b[0m\u001b[0merror_msg\u001b[0m\u001b[1;33m,\u001b[0m \u001b[0mresp\u001b[0m\u001b[1;33m)\u001b[0m\u001b[1;33m\u001b[0m\u001b[1;33m\u001b[0m\u001b[0m\n\u001b[0;32m    233\u001b[0m                 \u001b[1;32melse\u001b[0m\u001b[1;33m:\u001b[0m\u001b[1;33m\u001b[0m\u001b[1;33m\u001b[0m\u001b[0m\n\u001b[1;32m--> 234\u001b[1;33m                     \u001b[1;32mraise\u001b[0m \u001b[0mTweepError\u001b[0m\u001b[1;33m(\u001b[0m\u001b[0merror_msg\u001b[0m\u001b[1;33m,\u001b[0m \u001b[0mresp\u001b[0m\u001b[1;33m,\u001b[0m \u001b[0mapi_code\u001b[0m\u001b[1;33m=\u001b[0m\u001b[0mapi_error_code\u001b[0m\u001b[1;33m)\u001b[0m\u001b[1;33m\u001b[0m\u001b[1;33m\u001b[0m\u001b[0m\n\u001b[0m\u001b[0;32m    235\u001b[0m \u001b[1;33m\u001b[0m\u001b[0m\n\u001b[0;32m    236\u001b[0m             \u001b[1;31m# Parse the response payload\u001b[0m\u001b[1;33m\u001b[0m\u001b[1;33m\u001b[0m\u001b[1;33m\u001b[0m\u001b[0m\n",
      "\u001b[1;31mTweepError\u001b[0m: [{'code': 89, 'message': 'Invalid or expired token.'}]"
     ]
    }
   ],
   "source": [
    "public_tweets=api.search('Tharoor')"
   ]
  },
  {
   "cell_type": "code",
   "execution_count": 27,
   "metadata": {},
   "outputs": [
    {
     "name": "stdout",
     "output_type": "stream",
     "text": [
      "RT @aernd66: เพื่อน: เป็นคนไม่ค่อยพูดใช่มั้ย ดูเงียบๆ\n",
      "เรา: พูดไม่ค่อยเก่งอะ ฮ่าๆ\n",
      "เพื่อน, an extreme extrovert: เมื่อก่อนเราก็เป็นคนเงียบๆ แ…\n",
      "Sentiment(polarity=-0.125, subjectivity=1.0)\n",
      "RT @BaleubiInhyeong: People wonder why things aren’t flowing the way they hoped for without checking their own behaviors, thoughts, express…\n",
      "Sentiment(polarity=0.6, subjectivity=1.0)\n",
      "RT @proudsolitude: Accept EVERYTHING about yourself. #quote #INFJ #introvert https://t.co/hkkcxYeZ0C\n",
      "Sentiment(polarity=0.0, subjectivity=0.0)\n",
      "ไม่โดน extrovert อุปถัมป์ก็วิ่งชน introvert กันเองถึงได้มีเพื่อนอะ 555555555555\n",
      "Sentiment(polarity=0.0, subjectivity=0.0)\n",
      "RT @kissdanieI: but imagine phil wearing the black ripped jeans with the introvert denim jacket\n",
      "Sentiment(polarity=-0.16666666666666666, subjectivity=0.43333333333333335)\n",
      "Fyi aku x termasuk dlm 10% tu 😋, tp pet owner selalu x percaya unless aku pakai scrub suit ada embroidery nama aku… https://t.co/RUwvKXn4Za\n",
      "Sentiment(polarity=0.0, subjectivity=0.0)\n",
      "RT @aernd66: เพื่อน: เป็นคนไม่ค่อยพูดใช่มั้ย ดูเงียบๆ\n",
      "เรา: พูดไม่ค่อยเก่งอะ ฮ่าๆ\n",
      "เพื่อน, an extreme extrovert: เมื่อก่อนเราก็เป็นคนเงียบๆ แ…\n",
      "Sentiment(polarity=-0.125, subjectivity=1.0)\n",
      "RT @goon_ricky: I notice how Wonwoo has this \"quiet and cool rapper\" image when he first debuted but it's slowly shifting into the \"shy, in…\n",
      "Sentiment(polarity=-0.040000000000000015, subjectivity=0.44333333333333336)\n",
      "Yang lain futu2. Sebagai anak introvert aq menyendiri aja https://t.co/nAgUo6Z1ao\n",
      "Sentiment(polarity=0.0, subjectivity=0.0)\n",
      "Lanjutt ..\n",
      "Hobi rlgaada ,semunya ngalir kayak aer kalo di rp hobbynya bikin MT kaleyann jebol /? Tapi khusus yang u… https://t.co/PzBdSO52Gy\n",
      "Sentiment(polarity=0.0, subjectivity=0.0)\n",
      "RT @AimanPsikologis: Introvert selalu disisihkan, dianggap personaliti tak baik, anti sosial, tak berjaya dalam kerjaya dan paling dahsyat,…\n",
      "Sentiment(polarity=0.0, subjectivity=0.0)\n",
      "Banyaknya thread2 yang dipaksa urgent adalah bukti kalo angkatan kita ini generasi snowflake introvert\n",
      "Sentiment(polarity=0.0, subjectivity=0.0)\n",
      "RT @aernd66: เพื่อน: เป็นคนไม่ค่อยพูดใช่มั้ย ดูเงียบๆ\n",
      "เรา: พูดไม่ค่อยเก่งอะ ฮ่าๆ\n",
      "เพื่อน, an extreme extrovert: เมื่อก่อนเราก็เป็นคนเงียบๆ แ…\n",
      "Sentiment(polarity=-0.125, subjectivity=1.0)\n",
      "RT @gothforbid: so why are \"teen\", \"school girl\", and \"barely legal\" some of the most popular porn categories? why do grown men go after ba…\n",
      "Sentiment(polarity=0.32499999999999996, subjectivity=0.4)\n",
      "@AskAaronLee For a moment, I confused closed mindset/open mindset with introvert/extrovert. But after reading I got the difference\n",
      "Sentiment(polarity=-0.25, subjectivity=0.39999999999999997)\n"
     ]
    }
   ],
   "source": [
    "for tweet in public_tweets:\n",
    "    print (tweet.text)\n",
    "    analysis=TextBlob(tweet.text)\n",
    "    print (analysis.sentiment)"
   ]
  },
  {
   "cell_type": "code",
   "execution_count": null,
   "metadata": {},
   "outputs": [],
   "source": []
  }
 ],
 "metadata": {
  "kernelspec": {
   "display_name": "Python 3",
   "language": "python",
   "name": "python3"
  },
  "language_info": {
   "codemirror_mode": {
    "name": "ipython",
    "version": 3
   },
   "file_extension": ".py",
   "mimetype": "text/x-python",
   "name": "python",
   "nbconvert_exporter": "python",
   "pygments_lexer": "ipython3",
   "version": "3.7.3"
  }
 },
 "nbformat": 4,
 "nbformat_minor": 2
}
