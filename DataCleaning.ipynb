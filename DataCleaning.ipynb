{
 "cells": [
  {
   "cell_type": "code",
   "execution_count": 1,
   "id": "d03d2168",
   "metadata": {},
   "outputs": [],
   "source": [
    "import pandas as pd"
   ]
  },
  {
   "cell_type": "code",
   "execution_count": null,
   "id": "c7694551",
   "metadata": {},
   "outputs": [],
   "source": [
    "df_historical_data = pd.read_csv('fifa_worldcup_matches.csv')\n",
    "df_fixture = pd.read_csv('fifa_woldcup_fixture.csv')\n",
    "df_missing_data = pd.read_csv('fifa_worldcup_missing_data.csv')"
   ]
  },
  {
   "cell_type": "code",
   "execution_count": null,
   "id": "0bd92a50",
   "metadata": {},
   "outputs": [],
   "source": [
    "#cleaning df_fixture\n",
    "df_fixture['home'] = df_fixture['home'].str.strip()  # remove leading/trailing blank spaces\n",
    "df_fixture['away'] = df_fixture['away'].str.strip()"
   ]
  },
  {
   "cell_type": "code",
   "execution_count": null,
   "id": "cc840125",
   "metadata": {},
   "outputs": [],
   "source": [
    "#cleaning df_missing_data and adding it to df_historical_data\n",
    "#null data\n",
    "df_missing_data[df_missing_data['home'].isnull()]\n",
    "\n",
    "#drop null data\n",
    "df_missing_data.dropna(inplace=True)"
   ]
  },
  {
   "cell_type": "code",
   "execution_count": null,
   "id": "a1b92a53",
   "metadata": {},
   "outputs": [],
   "source": [
    "#concatenate dfs and clean\n",
    "df_historical_data = pd.concat([df_historical_data, df_missing_data], ignore_index=True)\n",
    "df_historical_data.drop_duplicates(inplace=True)\n",
    "df_historical_data.sort_values('year', inplace=True\n",
    "df_historical_data"
   ]
  },
  {
   "cell_type": "code",
   "execution_count": null,
   "id": "4953fe90",
   "metadata": {},
   "outputs": [],
   "source": [
    "#cleaning df_historical_data\n",
    "#deleting match with Walk Over\n",
    "delete_index = df_historical_data[df_historical_data['home'].str.contains('Sweden') & \n",
    "                                 df_historical_data['away'].str.contains('Austria')].index\n",
    "\n",
    "df_historical_data.drop(index=delete_index, inplace=True)"
   ]
  },
  {
   "cell_type": "code",
   "execution_count": null,
   "id": "e7526001",
   "metadata": {},
   "outputs": [],
   "source": [
    "# columns scores with not only digits and \"-\"\n",
    "df_historical_data['score'].str.contains('[^\\d-]')\n",
    "df_historical_data['score'].str.replace('[^\\d-]', '', regex=True)"
   ]
  },
  {
   "cell_type": "code",
   "execution_count": null,
   "id": "78bda1a8",
   "metadata": {},
   "outputs": [],
   "source": [
    "# cleaning score and home/away columns\n",
    "df_historical_data['home'] = df_historical_data['home'].str.strip()\n",
    "df_historical_data['away'] = df_historical_data['away'].str.strip()"
   ]
  },
  {
   "cell_type": "code",
   "execution_count": null,
   "id": "71d3431c",
   "metadata": {},
   "outputs": [],
   "source": [
    "# split score colum into home and away score and drop score column\n",
    "df_historical_data[['HomeGoals', 'AwayGoals']]  = df_historical_data['score'].str.split('-', expand=True)\n",
    "df_historical_data.drop('score', axis=1)"
   ]
  },
  {
   "cell_type": "code",
   "execution_count": null,
   "id": "1c5261ff",
   "metadata": {},
   "outputs": [],
   "source": [
    "# renaming columns and changing data types\n",
    "df_historical_data.rename(columns={'home': 'HomeTeam', 'away': \"AwayTeam\",\n",
    "                                    'year': 'Year'}, inplace=True)\n",
    "df_historical_data.dtypes\n",
    "df_historical_data = df_historical_data.astype({'HomeGoals': int, 'AwayGoals': int, 'Year':int})"
   ]
  },
  {
   "cell_type": "code",
   "execution_count": null,
   "id": "51b6c6ae",
   "metadata": {},
   "outputs": [],
   "source": [
    "#creating new column \"totalgoals\"\n",
    "df_historical_data['TotalGoals'] = df_historical_data['HomeGoals'] + df_historical_data['AwayGoals']"
   ]
  },
  {
   "cell_type": "code",
   "execution_count": null,
   "id": "6158fa9c",
   "metadata": {},
   "outputs": [],
   "source": [
    "#exporting clean dataframes\n",
    "df_historical_data.to_csv('clean_fifa_worldcup_matches.csv', index=False)\n",
    "df_fixture.to_csv('clean_fifa_worldcup_fixture.csv', index=False)"
   ]
  },
  {
   "cell_type": "code",
   "execution_count": null,
   "id": "e1719e21",
   "metadata": {},
   "outputs": [],
   "source": [
    "#extra verification\n",
    "years = [1998, 2002, 2006, 2010, 2014, 2018]\n",
    "for year in years:\n",
    "    print(year, len(df_historical_data[df_historical_data['Year']==year]))"
   ]
  }
 ],
 "metadata": {
  "kernelspec": {
   "display_name": "Python 3 (ipykernel)",
   "language": "python",
   "name": "python3"
  },
  "language_info": {
   "codemirror_mode": {
    "name": "ipython",
    "version": 3
   },
   "file_extension": ".py",
   "mimetype": "text/x-python",
   "name": "python",
   "nbconvert_exporter": "python",
   "pygments_lexer": "ipython3",
   "version": "3.11.0"
  }
 },
 "nbformat": 4,
 "nbformat_minor": 5
}
