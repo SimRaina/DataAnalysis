{
 "cells": [
  {
   "cell_type": "code",
   "execution_count": 1,
   "id": "48a866a9",
   "metadata": {},
   "outputs": [],
   "source": [
    "import pandas as pd\n",
    "import pickle\n",
    "from scipy.stats import poisson"
   ]
  },
  {
   "cell_type": "code",
   "execution_count": null,
   "id": "6c5e333a",
   "metadata": {},
   "outputs": [],
   "source": [
    "dict_table = pickle.load(open('dict_table', 'rb'))\n",
    "df_historical_data = pd.read_csv('clean_fifa_worldcup_matches.csv')\n",
    "df_fixture = pd.read_csv('clean_fifa_worldcup_fixture.csv')"
   ]
  },
  {
   "cell_type": "code",
   "execution_count": null,
   "id": "012b6634",
   "metadata": {},
   "outputs": [],
   "source": [
    "# Calculate Team Strength\n",
    "#split df into df_home and df_away\n",
    "df_home = df_historical_data[['HomeTeam', 'HomeGoals', 'AwayGoals']]\n",
    "df_away = df_historical_data[['AwayTeam', 'HomeGoals', 'AwayGoals']]"
   ]
  },
  {
   "cell_type": "code",
   "execution_count": null,
   "id": "9d8a5c83",
   "metadata": {},
   "outputs": [],
   "source": [
    "#rename columns\n",
    "df_home = df_home.rename(columns={'HomeTeam': 'Team', 'HomeGoals': 'GoalsScored', 'AwayGoals': 'GoalsConceded'})\n",
    "df_away = df_away.rename(columns={'AwayTeam': 'Team', 'HomeGoals': 'GoalsConceded', 'AwayGoals': 'GoalsScored'})"
   ]
  },
  {
   "cell_type": "code",
   "execution_count": null,
   "id": "04ac57b8",
   "metadata": {},
   "outputs": [],
   "source": [
    "#concat df_home and df_away, group by team and calculate the mean\n",
    "df_team_strength = pd.concat([df_home, df_away], ignore_index=True).groupby('Team').mean()\n",
    "df_team_strength"
   ]
  },
  {
   "cell_type": "code",
   "execution_count": null,
   "id": "273705da",
   "metadata": {},
   "outputs": [],
   "source": [
    "# Create Function predict_points\n",
    "def predict_points(home, away):\n",
    "    if home in df_team_strength.index and away in df_team_strength.index:\n",
    "        # goals_scored * goals_conceded\n",
    "        lamb_home = df_team_strength.at[home, 'GoalsScored'] * df_team_strength.at[away, 'GoalsConceded']\n",
    "        lamb_away = df_team_strength.at[away, 'GoalsScored'] * df_team_strength.at[home, 'GoalsConceded']\n",
    "        prob_home, prob_away, prob_draw = 0, 0, 0\n",
    "        for x in range(0,11): #number of goals home team\n",
    "            for y in range(0,11): #number of goals away team\n",
    "                p = poisson.pmf(x, lamb_home) * poisson.pmf(y, lamb_away)\n",
    "                if x == y:\n",
    "                    prob_draw += p\n",
    "                elif x > y:\n",
    "                    prob_home += p\n",
    "                else:\n",
    "                    prob_away += p\n",
    "        \n",
    "        points_home = 3 * prob_home + prob_draw\n",
    "        points_away = 3 * prob_away + prob_draw\n",
    "        return (points_home, points_away)\n",
    "    else:\n",
    "        return (0, 0)"
   ]
  },
  {
   "cell_type": "code",
   "execution_count": null,
   "id": "0aac3fc7",
   "metadata": {},
   "outputs": [],
   "source": [
    "# Testing Function\n",
    "# test with matches: Argentina - Mexico, England - United States, ..\n",
    "predict_points('Argentina', 'Mexico')\n",
    "predict_points('England', 'United States')\n",
    "predict_points('Qatar (H)', 'Ecuador')"
   ]
  },
  {
   "cell_type": "code",
   "execution_count": null,
   "id": "5d9399b8",
   "metadata": {},
   "outputs": [],
   "source": [
    "# Predicting World Cup\n",
    "#splitting fixture into group, knockout, quarter, ...\n",
    "df_fixture_group_48 = df_fixture[:48].copy()\n",
    "df_fixture_knockout = df_fixture[48:56].copy()\n",
    "df_fixture_quarterfinal = df_fixture[56:60].copy()\n",
    "df_fixture_semi = df_fixture[60:62].copy()\n",
    "df_fixture_final = df_fixture[62:].copy()"
   ]
  },
  {
   "cell_type": "code",
   "execution_count": null,
   "id": "5ce16db2",
   "metadata": {},
   "outputs": [],
   "source": [
    "#run all the matches in the group stage and update group tables\n",
    "for group in dict_table:\n",
    "    teams_in_group = dict_table[group]['Team'].values\n",
    "    df_fixture_group_6 = df_fixture_group_48[df_fixture_group_48['home'].isin(teams_in_group)]\n",
    "    for index, row in df_fixture_group_6.iterrows():\n",
    "        home, away = row['home'], row['away']\n",
    "        points_home, points_away = predict_points(home, away)\n",
    "        dict_table[group].loc[dict_table[group]['Team'] == home, 'Pts'] += points_home\n",
    "        dict_table[group].loc[dict_table[group]['Team'] == away, 'Pts'] += points_away\n",
    "        \n",
    "    dict_table[group] = dict_table[group].sort_values('Pts', ascending=False).reset_index()\n",
    "    dict_table[group] = dict_table[group][['Team', 'Pts']]\n",
    "    dict_table[group] = dict_table[group].round(0)\n",
    "        "
   ]
  },
  {
   "cell_type": "code",
   "execution_count": null,
   "id": "ff03ba26",
   "metadata": {},
   "outputs": [],
   "source": [
    "#show updated table\n",
    "dict_table['Group A']"
   ]
  },
  {
   "cell_type": "code",
   "execution_count": null,
   "id": "d86deab1",
   "metadata": {},
   "outputs": [],
   "source": [
    "# Knock Out\n",
    "df_fixture_knockout\n",
    "# update knock out table\n",
    "for group in dict_table:\n",
    "    group_winner = dict_table[group].loc[0, 'Team']\n",
    "    runnes_up = dict_table[group].loc[1, 'Team']\n",
    "    df_fixture_knockout.replace({f'Winners {group}': group_winner,\n",
    "                                f'Runners-up {group}': runners_up}, inplace=True)\n",
    "    \n",
    "df_fixture_knockout['winner'] = '?'\n",
    "df_fixture_knockout"
   ]
  },
  {
   "cell_type": "code",
   "execution_count": null,
   "id": "1ef8950c",
   "metadata": {},
   "outputs": [],
   "source": [
    "# create get_winner function\n",
    "def get_winner(df_fixture_updated):\n",
    "    for index, row in df_fixture_updated.iterrows():\n",
    "        home, away = row['home'], row['away']\n",
    "        points_home, points_away = predict_points(home, away)\n",
    "        if points_home > points_away:\n",
    "            winner = home\n",
    "        else:\n",
    "            winner = away\n",
    "        df_fixture_updated.loc[index, 'winner'] = winner\n",
    "    return df_fixture_updated"
   ]
  },
  {
   "cell_type": "code",
   "execution_count": null,
   "id": "1d05e869",
   "metadata": {},
   "outputs": [],
   "source": [
    "get_winner(df_fixture_knockout)"
   ]
  },
  {
   "cell_type": "code",
   "execution_count": null,
   "id": "1378d889",
   "metadata": {},
   "outputs": [],
   "source": [
    "# Quarter Final\n",
    "def update_table(df_fixture_round_1, df_fixture_round_2):\n",
    "    for index, row in df_fixture_round_1.iterrows():\n",
    "        winner = df_fixture_round_1.loc[index, 'winner']\n",
    "        match = df_fixture_round_1.loc[index, 'score']\n",
    "        df_fixture_round2.replace({f'Winners {match}': winner}, inplace=True)\n",
    "    df_fixture_round_2['winner'] = '?'\n",
    "    return df_fixture_round_2"
   ]
  },
  {
   "cell_type": "code",
   "execution_count": null,
   "id": "4dc22833",
   "metadata": {},
   "outputs": [],
   "source": [
    "update_table(df_fixture_knockout, df_fixture_quarter)"
   ]
  },
  {
   "cell_type": "code",
   "execution_count": null,
   "id": "6babeec2",
   "metadata": {},
   "outputs": [],
   "source": [
    "get_winner(df_fixture_quarter)"
   ]
  },
  {
   "cell_type": "code",
   "execution_count": null,
   "id": "ca307b91",
   "metadata": {},
   "outputs": [],
   "source": [
    "# Semi Final\n",
    "update_table(df_fixture_quarter, df_fixture_semi)"
   ]
  },
  {
   "cell_type": "code",
   "execution_count": null,
   "id": "2a8f84f3",
   "metadata": {},
   "outputs": [],
   "source": [
    "get_winner(df_fixture_semi)"
   ]
  },
  {
   "cell_type": "code",
   "execution_count": null,
   "id": "f9c045e7",
   "metadata": {},
   "outputs": [],
   "source": [
    "# Final\n",
    "update_table(df_fixture_semi, df_fixture_final)"
   ]
  },
  {
   "cell_type": "code",
   "execution_count": null,
   "id": "43ab1f49",
   "metadata": {},
   "outputs": [],
   "source": [
    "get_winner(df_fixture_final)"
   ]
  }
 ],
 "metadata": {
  "kernelspec": {
   "display_name": "Python 3 (ipykernel)",
   "language": "python",
   "name": "python3"
  },
  "language_info": {
   "codemirror_mode": {
    "name": "ipython",
    "version": 3
   },
   "file_extension": ".py",
   "mimetype": "text/x-python",
   "name": "python",
   "nbconvert_exporter": "python",
   "pygments_lexer": "ipython3",
   "version": "3.11.0"
  }
 },
 "nbformat": 4,
 "nbformat_minor": 5
}
